{
 "cells": [
  {
   "cell_type": "code",
   "execution_count": 72,
   "metadata": {},
   "outputs": [
    {
     "name": "stderr",
     "output_type": "stream",
     "text": [
      "[nltk_data] Downloading package punkt to\n",
      "[nltk_data]     C:\\Users\\User\\AppData\\Roaming\\nltk_data...\n",
      "[nltk_data]   Package punkt is already up-to-date!\n"
     ]
    }
   ],
   "source": [
    "import json\n",
    "import nltk\n",
    "from nltk.translate.bleu_score import sentence_bleu\n",
    "nltk.download('punkt')\n",
    "import matplotlib.pyplot as plt\n",
    "from wordcloud import WordCloud\n",
    "import matplotlib.pyplot as plt\n",
    "%matplotlib inline"
   ]
  },
  {
   "cell_type": "code",
   "execution_count": 73,
   "metadata": {},
   "outputs": [],
   "source": [
    "# Initialize lists to store existing and generated texts\n",
    "existing_texts = []\n",
    "generated_texts = []"
   ]
  },
  {
   "cell_type": "code",
   "execution_count": 74,
   "metadata": {},
   "outputs": [],
   "source": [
    "# Step 1: Load the data from JSON\n",
    "with open('data_results.json', 'r') as json_file:\n",
    "    data = json.load(json_file)"
   ]
  },
  {
   "cell_type": "code",
   "execution_count": 75,
   "metadata": {},
   "outputs": [],
   "source": [
    "# Step 2: Define Evaluation Metrics\n",
    "bleu_scores = []\n",
    "x_labels = []\n",
    "for entry in data:\n",
    "    reference = entry['existing_text']\n",
    "    generated = entry['generated_text']\n",
    "    reference_tokens = nltk.word_tokenize(reference.lower())\n",
    "    generated_tokens = nltk.word_tokenize(generated.lower())\n",
    "    bleu_score = sentence_bleu([reference_tokens], generated_tokens)\n",
    "    bleu_scores.append(bleu_score)\n",
    "    x_labels.append(f\"Entry {len(x_labels) + 1}\")"
   ]
  },
  {
   "cell_type": "code",
   "execution_count": 76,
   "metadata": {},
   "outputs": [
    {
     "data": {
      "image/png": "[encoded data removed]",
      "text/plain": [
       "<Figure size 640x480 with 1 Axes>"
      ]
     },
     "metadata": {},
     "output_type": "display_data"
    }
   ],
   "source": [
    "# Step 3: Visualize the results\n",
    "plt.bar(x_labels, bleu_scores)\n",
    "plt.xlabel(\"Entry\")\n",
    "plt.ylabel(\"BLEU Score\")\n",
    "plt.title(\"Comparison of BLEU Scores\")\n",
    "plt.xticks(rotation=90)\n",
    "plt.show()"
   ]
  },
  {
   "cell_type": "code",
   "execution_count": 77,
   "metadata": {},
   "outputs": [],
   "source": [
    "\n",
    "# Generate word clouds for each pair of texts\n",
    "for i in range(len(existing_texts)):\n",
    "    existing_text = existing_texts[i]\n",
    "    generated_text = generated_texts[i]\n",
    "\n",
    "    # Generate word cloud for the existing text\n",
    "    existing_wordcloud = WordCloud(width=800, height=400, background_color='white').generate(existing_text)\n",
    "\n",
    "    # Generate word cloud for the generated text\n",
    "    generated_wordcloud = WordCloud(width=800, height=400, background_color='white').generate(generated_text)\n",
    "\n",
    "    # Plot the word clouds\n",
    "    fig, axes = plt.subplots(1, 2, figsize=(12, 6))\n",
    "\n",
    "    axes[0].imshow(existing_wordcloud, interpolation='bilinear')\n",
    "    axes[0].set_title('Existing Text')\n",
    "    axes[0].axis('off')\n",
    "\n",
    "    axes[1].imshow(generated_wordcloud, interpolation='bilinear')\n",
    "    axes[1].set_title('Generated Text')\n",
    "    axes[1].axis('off')\n",
    "\n",
    "    plt.tight_layout()\n",
    "    plt.show()\n"
   ]
  }
 ],
 "metadata": {
  "kernelspec": {
   "display_name": "Python 3",
   "language": "python",
   "name": "python3"
  },
  "language_info": {
   "codemirror_mode": {
    "name": "ipython",
    "version": 3
   },
   "file_extension": ".py",
   "mimetype": "text/x-python",
   "name": "python",
   "nbconvert_exporter": "python",
   "pygments_lexer": "ipython3",
   "version": "3.11.3"
  },
  "orig_nbformat": 4
 },
 "nbformat": 4,
 "nbformat_minor": 2
}
