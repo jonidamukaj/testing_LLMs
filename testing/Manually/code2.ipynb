{
 "cells": [
  {
   "cell_type": "code",
   "execution_count": null,
   "id": "a70d8875",
   "metadata": {},
   "outputs": [
    {
     "ename": "",
     "evalue": "",
     "output_type": "error",
     "traceback": [
      "\u001b[1;31mThe kernel failed to start as 'InterruptiblePdb' could not be imported from 'most likely due to a circular import'.\n",
      "\u001b[1;31mClick <a href='https://aka.ms/kernelFailuresModuleImportErrFromFile'>here</a> for more info."
     ]
    }
   ],
   "source": [
    "import pandas as pd\n",
    "import matplotlib.pyplot as plt"
   ]
  },
  {
   "cell_type": "code",
   "execution_count": null,
   "id": "daba6c65",
   "metadata": {},
   "outputs": [],
   "source": [
    "\n",
    "\n",
    "# Load your data into a pandas DataFrame\n",
    "data = pd.read_csv('automatic.csv')\n",
    "\n",
    "# Calculate correlations with Coherence\n",
    "coherence_correlation = data[['F1_Score', 'Rouge1', 'Rouge2', 'RougeL', 'Length', 'Vec2', 'Bleu']].corrwith(data['Coherence'], method='pearson')\n",
    "\n",
    "# Calculate correlations with Consistency\n",
    "consistency_correlation = data[['F1_Score', 'Rouge1', 'Rouge2', 'RougeL', 'Length', 'Vec2', 'Bleu']].corrwith(data['Consistency'], method='pearson')\n",
    "\n",
    "# Calculate correlations with Relevance\n",
    "relevance_correlation = data[['F1_Score', 'Rouge1', 'Rouge2', 'RougeL', 'Length', 'Vec2', 'Bleu']].corrwith(data['Relevance'], method='pearson')\n",
    "\n",
    "# Calculate correlations with Fluency\n",
    "fluency_correlation = data[['F1_Score', 'Rouge1', 'Rouge2', 'RougeL', 'Length', 'Vec2', 'Bleu']].corrwith(data['Fluency'], method='pearson')\n",
    "\n",
    "# Visualize the correlations for each human metric\n",
    "plt.figure(figsize=(12, 6))\n",
    "\n",
    "# Bar plot for Coherence\n",
    "plt.subplot(221)\n",
    "coherence_correlation.plot(kind='bar', color='skyblue')\n",
    "plt.xlabel('Automatic Metrics')\n",
    "plt.ylabel('Correlation with Coherence')\n",
    "plt.title('Correlation between Automatic Metrics and Coherence')\n",
    "plt.xticks(rotation=45)\n",
    "\n",
    "# Bar plot for Consistency\n",
    "plt.subplot(222)\n",
    "consistency_correlation.plot(kind='bar', color='lightgreen')\n",
    "plt.xlabel('Automatic Metrics')\n",
    "plt.ylabel('Correlation with Consistency')\n",
    "plt.title('Correlation between Automatic Metrics and Consistency')\n",
    "plt.xticks(rotation=45)\n",
    "\n",
    "# Bar plot for Relevance\n",
    "plt.subplot(223)\n",
    "relevance_correlation.plot(kind='bar', color='lightcoral')\n",
    "plt.xlabel('Automatic Metrics')\n",
    "plt.ylabel('Correlation with Relevance')\n",
    "plt.title('Correlation between Automatic Metrics and Relevance')\n",
    "plt.xticks(rotation=45)\n",
    "\n",
    "# Bar plot for Fluency\n",
    "plt.subplot(224)\n",
    "fluency_correlation.plot(kind='bar', color='lightsalmon')\n",
    "plt.xlabel('Automatic Metrics')\n",
    "plt.ylabel('Correlation with Fluency')\n",
    "plt.title('Correlation between Automatic Metrics and Fluency')\n",
    "plt.xticks(rotation=45)\n",
    "\n",
    "plt.tight_layout()\n",
    "plt.show()\n",
    "\n"
   ]
  }
 ],
 "metadata": {
  "kernelspec": {
   "display_name": "Python 3 (ipykernel)",
   "language": "python",
   "name": "python3"
  },
  "language_info": {
   "codemirror_mode": {
    "name": "ipython",
    "version": 3
   },
   "file_extension": ".py",
   "mimetype": "text/x-python",
   "name": "python",
   "nbconvert_exporter": "python",
   "pygments_lexer": "ipython3",
   "version": "3.11.3"
  }
 },
 "nbformat": 4,
 "nbformat_minor": 5
}
