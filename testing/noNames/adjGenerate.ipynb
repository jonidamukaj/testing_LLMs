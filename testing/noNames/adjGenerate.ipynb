{
 "cells": [
  {
   "cell_type": "code",
   "execution_count": 2,
   "metadata": {},
   "outputs": [
    {
     "name": "stdout",
     "output_type": "stream",
     "text": [
      "Adjectives per author have been saved in adjectivesFEW.json.\n"
     ]
    }
   ],
   "source": [
    "import json\n",
    "import nltk\n",
    "from nltk.tokenize import word_tokenize\n",
    "from nltk import pos_tag\n",
    "from collections import Counter\n",
    "\n",
    "# Load the data from the JSON file\n",
    "with open('resultsNoNames.json') as file:\n",
    "    data = json.load(file)\n",
    "\n",
    "adjectives_per_author = {}\n",
    "\n",
    "for author_data in data:\n",
    "    author_name = author_data['name']\n",
    "    existing_text = author_data['existing_text']\n",
    "    generated_texts = [author_data[f'generated_text{i+1}'] for i in range(2)]\n",
    "\n",
    "    # Tokenize and tag the words in the existing text\n",
    "    existing_words = word_tokenize(existing_text)\n",
    "    existing_tagged_words = pos_tag(existing_words)\n",
    "\n",
    "    # Collect the adjectives from the existing text\n",
    "    existing_adjectives = [word for word, pos in existing_tagged_words if pos.startswith('JJ')]\n",
    "\n",
    "    # Collect the adjectives from the generated texts\n",
    "    generated_adjectives = []\n",
    "    for generated_text in generated_texts:\n",
    "        generated_words = word_tokenize(generated_text)\n",
    "        generated_tagged_words = pos_tag(generated_words)\n",
    "        generated_adjectives.extend([word for word, pos in generated_tagged_words if pos.startswith('JJ')])\n",
    "\n",
    "    # Count the occurrences of each adjective\n",
    "    adjective_counts = Counter(existing_adjectives + generated_adjectives)\n",
    "\n",
    "    # Store the adjective counts for the author\n",
    "    adjectives_per_author[author_name] = adjective_counts\n",
    "\n",
    "# Save the adjectives per author in a JSON file\n",
    "output_data = {'adjectives_per_author': adjectives_per_author}\n",
    "\n",
    "with open('adjectivesFEWno.json', 'w') as output_file:\n",
    "    json.dump(output_data, output_file, indent=4)\n",
    "\n",
    "print(\"Adjectives per author have been saved in adjectivesFEW.json.\")\n"
   ]
  }
 ],
 "metadata": {
  "kernelspec": {
   "display_name": "Python 3",
   "language": "python",
   "name": "python3"
  },
  "language_info": {
   "codemirror_mode": {
    "name": "ipython",
    "version": 3
   },
   "file_extension": ".py",
   "mimetype": "text/x-python",
   "name": "python",
   "nbconvert_exporter": "python",
   "pygments_lexer": "ipython3",
   "version": "3.11.3"
  },
  "orig_nbformat": 4
 },
 "nbformat": 4,
 "nbformat_minor": 2
}
