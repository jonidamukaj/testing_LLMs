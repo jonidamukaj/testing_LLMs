{
 "cells": [
  {
   "cell_type": "markdown",
   "id": "b284d8a4",
   "metadata": {},
   "source": [
    "## F1 score on bigrams"
   ]
  },
  {
   "cell_type": "code",
   "execution_count": 1,
   "id": "e44c2325",
   "metadata": {},
   "outputs": [
    {
     "ename": "ValueError",
     "evalue": "Found input variables with inconsistent numbers of samples: [28, 32]",
     "output_type": "error",
     "traceback": [
      "\u001b[1;31m---------------------------------------------------------------------------\u001b[0m",
      "\u001b[1;31mValueError\u001b[0m                                Traceback (most recent call last)",
      "Cell \u001b[1;32mIn[1], line 28\u001b[0m\n\u001b[0;32m     25\u001b[0m generated_text_2 \u001b[39m=\u001b[39m entry[\u001b[39m\"\u001b[39m\u001b[39mgenerated_text2\u001b[39m\u001b[39m\"\u001b[39m]\n\u001b[0;32m     26\u001b[0m generated_text_3 \u001b[39m=\u001b[39m entry[\u001b[39m\"\u001b[39m\u001b[39mgenerated_text3\u001b[39m\u001b[39m\"\u001b[39m]\n\u001b[1;32m---> 28\u001b[0m f1_score_1 \u001b[39m=\u001b[39m calculate_f1_score(existing_text, generated_text_1)\n\u001b[0;32m     29\u001b[0m f1_score_2 \u001b[39m=\u001b[39m calculate_f1_score(existing_text, generated_text_2)\n\u001b[0;32m     30\u001b[0m f1_score_3 \u001b[39m=\u001b[39m calculate_f1_score(existing_text, generated_text_3)\n",
      "Cell \u001b[1;32mIn[1], line 18\u001b[0m, in \u001b[0;36mcalculate_f1_score\u001b[1;34m(ground_truth_text, generated_text)\u001b[0m\n\u001b[0;32m     16\u001b[0m ground_truth_bigrams \u001b[39m=\u001b[39m tokenize_into_bigrams(ground_truth_text)\n\u001b[0;32m     17\u001b[0m generated_text_bigrams \u001b[39m=\u001b[39m tokenize_into_bigrams(generated_text)\n\u001b[1;32m---> 18\u001b[0m f1 \u001b[39m=\u001b[39m f1_score(ground_truth_bigrams, generated_text_bigrams, average\u001b[39m=\u001b[39;49m\u001b[39m'\u001b[39;49m\u001b[39mmicro\u001b[39;49m\u001b[39m'\u001b[39;49m)\n\u001b[0;32m     19\u001b[0m \u001b[39mreturn\u001b[39;00m f1\n",
      "File \u001b[1;32mc:\\Users\\User\\AppData\\Local\\Programs\\Python\\Python311\\Lib\\site-packages\\sklearn\\metrics\\_classification.py:1146\u001b[0m, in \u001b[0;36mf1_score\u001b[1;34m(y_true, y_pred, labels, pos_label, average, sample_weight, zero_division)\u001b[0m\n\u001b[0;32m   1011\u001b[0m \u001b[39mdef\u001b[39;00m \u001b[39mf1_score\u001b[39m(\n\u001b[0;32m   1012\u001b[0m     y_true,\n\u001b[0;32m   1013\u001b[0m     y_pred,\n\u001b[1;32m   (...)\u001b[0m\n\u001b[0;32m   1019\u001b[0m     zero_division\u001b[39m=\u001b[39m\u001b[39m\"\u001b[39m\u001b[39mwarn\u001b[39m\u001b[39m\"\u001b[39m,\n\u001b[0;32m   1020\u001b[0m ):\n\u001b[0;32m   1021\u001b[0m \u001b[39m    \u001b[39m\u001b[39m\"\"\"Compute the F1 score, also known as balanced F-score or F-measure.\u001b[39;00m\n\u001b[0;32m   1022\u001b[0m \n\u001b[0;32m   1023\u001b[0m \u001b[39m    The F1 score can be interpreted as a harmonic mean of the precision and\u001b[39;00m\n\u001b[1;32m   (...)\u001b[0m\n\u001b[0;32m   1144\u001b[0m \u001b[39m    array([0.66666667, 1.        , 0.66666667])\u001b[39;00m\n\u001b[0;32m   1145\u001b[0m \u001b[39m    \"\"\"\u001b[39;00m\n\u001b[1;32m-> 1146\u001b[0m     \u001b[39mreturn\u001b[39;00m fbeta_score(\n\u001b[0;32m   1147\u001b[0m         y_true,\n\u001b[0;32m   1148\u001b[0m         y_pred,\n\u001b[0;32m   1149\u001b[0m         beta\u001b[39m=\u001b[39;49m\u001b[39m1\u001b[39;49m,\n\u001b[0;32m   1150\u001b[0m         labels\u001b[39m=\u001b[39;49mlabels,\n\u001b[0;32m   1151\u001b[0m         pos_label\u001b[39m=\u001b[39;49mpos_label,\n\u001b[0;32m   1152\u001b[0m         average\u001b[39m=\u001b[39;49maverage,\n\u001b[0;32m   1153\u001b[0m         sample_weight\u001b[39m=\u001b[39;49msample_weight,\n\u001b[0;32m   1154\u001b[0m         zero_division\u001b[39m=\u001b[39;49mzero_division,\n\u001b[0;32m   1155\u001b[0m     )\n",
      "File \u001b[1;32mc:\\Users\\User\\AppData\\Local\\Programs\\Python\\Python311\\Lib\\site-packages\\sklearn\\metrics\\_classification.py:1287\u001b[0m, in \u001b[0;36mfbeta_score\u001b[1;34m(y_true, y_pred, beta, labels, pos_label, average, sample_weight, zero_division)\u001b[0m\n\u001b[0;32m   1158\u001b[0m \u001b[39mdef\u001b[39;00m \u001b[39mfbeta_score\u001b[39m(\n\u001b[0;32m   1159\u001b[0m     y_true,\n\u001b[0;32m   1160\u001b[0m     y_pred,\n\u001b[1;32m   (...)\u001b[0m\n\u001b[0;32m   1167\u001b[0m     zero_division\u001b[39m=\u001b[39m\u001b[39m\"\u001b[39m\u001b[39mwarn\u001b[39m\u001b[39m\"\u001b[39m,\n\u001b[0;32m   1168\u001b[0m ):\n\u001b[0;32m   1169\u001b[0m \u001b[39m    \u001b[39m\u001b[39m\"\"\"Compute the F-beta score.\u001b[39;00m\n\u001b[0;32m   1170\u001b[0m \n\u001b[0;32m   1171\u001b[0m \u001b[39m    The F-beta score is the weighted harmonic mean of precision and recall,\u001b[39;00m\n\u001b[1;32m   (...)\u001b[0m\n\u001b[0;32m   1284\u001b[0m \u001b[39m    array([0.71..., 0.        , 0.        ])\u001b[39;00m\n\u001b[0;32m   1285\u001b[0m \u001b[39m    \"\"\"\u001b[39;00m\n\u001b[1;32m-> 1287\u001b[0m     _, _, f, _ \u001b[39m=\u001b[39m precision_recall_fscore_support(\n\u001b[0;32m   1288\u001b[0m         y_true,\n\u001b[0;32m   1289\u001b[0m         y_pred,\n\u001b[0;32m   1290\u001b[0m         beta\u001b[39m=\u001b[39;49mbeta,\n\u001b[0;32m   1291\u001b[0m         labels\u001b[39m=\u001b[39;49mlabels,\n\u001b[0;32m   1292\u001b[0m         pos_label\u001b[39m=\u001b[39;49mpos_label,\n\u001b[0;32m   1293\u001b[0m         average\u001b[39m=\u001b[39;49maverage,\n\u001b[0;32m   1294\u001b[0m         warn_for\u001b[39m=\u001b[39;49m(\u001b[39m\"\u001b[39;49m\u001b[39mf-score\u001b[39;49m\u001b[39m\"\u001b[39;49m,),\n\u001b[0;32m   1295\u001b[0m         sample_weight\u001b[39m=\u001b[39;49msample_weight,\n\u001b[0;32m   1296\u001b[0m         zero_division\u001b[39m=\u001b[39;49mzero_division,\n\u001b[0;32m   1297\u001b[0m     )\n\u001b[0;32m   1298\u001b[0m     \u001b[39mreturn\u001b[39;00m f\n",
      "File \u001b[1;32mc:\\Users\\User\\AppData\\Local\\Programs\\Python\\Python311\\Lib\\site-packages\\sklearn\\metrics\\_classification.py:1573\u001b[0m, in \u001b[0;36mprecision_recall_fscore_support\u001b[1;34m(y_true, y_pred, beta, labels, pos_label, average, warn_for, sample_weight, zero_division)\u001b[0m\n\u001b[0;32m   1571\u001b[0m \u001b[39mif\u001b[39;00m beta \u001b[39m<\u001b[39m \u001b[39m0\u001b[39m:\n\u001b[0;32m   1572\u001b[0m     \u001b[39mraise\u001b[39;00m \u001b[39mValueError\u001b[39;00m(\u001b[39m\"\u001b[39m\u001b[39mbeta should be >=0 in the F-beta score\u001b[39m\u001b[39m\"\u001b[39m)\n\u001b[1;32m-> 1573\u001b[0m labels \u001b[39m=\u001b[39m _check_set_wise_labels(y_true, y_pred, average, labels, pos_label)\n\u001b[0;32m   1575\u001b[0m \u001b[39m# Calculate tp_sum, pred_sum, true_sum ###\u001b[39;00m\n\u001b[0;32m   1576\u001b[0m samplewise \u001b[39m=\u001b[39m average \u001b[39m==\u001b[39m \u001b[39m\"\u001b[39m\u001b[39msamples\u001b[39m\u001b[39m\"\u001b[39m\n",
      "File \u001b[1;32mc:\\Users\\User\\AppData\\Local\\Programs\\Python\\Python311\\Lib\\site-packages\\sklearn\\metrics\\_classification.py:1374\u001b[0m, in \u001b[0;36m_check_set_wise_labels\u001b[1;34m(y_true, y_pred, average, labels, pos_label)\u001b[0m\n\u001b[0;32m   1371\u001b[0m \u001b[39mif\u001b[39;00m average \u001b[39mnot\u001b[39;00m \u001b[39min\u001b[39;00m average_options \u001b[39mand\u001b[39;00m average \u001b[39m!=\u001b[39m \u001b[39m\"\u001b[39m\u001b[39mbinary\u001b[39m\u001b[39m\"\u001b[39m:\n\u001b[0;32m   1372\u001b[0m     \u001b[39mraise\u001b[39;00m \u001b[39mValueError\u001b[39;00m(\u001b[39m\"\u001b[39m\u001b[39maverage has to be one of \u001b[39m\u001b[39m\"\u001b[39m \u001b[39m+\u001b[39m \u001b[39mstr\u001b[39m(average_options))\n\u001b[1;32m-> 1374\u001b[0m y_type, y_true, y_pred \u001b[39m=\u001b[39m _check_targets(y_true, y_pred)\n\u001b[0;32m   1375\u001b[0m \u001b[39m# Convert to Python primitive type to avoid NumPy type / Python str\u001b[39;00m\n\u001b[0;32m   1376\u001b[0m \u001b[39m# comparison. See https://github.com/numpy/numpy/issues/6784\u001b[39;00m\n\u001b[0;32m   1377\u001b[0m present_labels \u001b[39m=\u001b[39m unique_labels(y_true, y_pred)\u001b[39m.\u001b[39mtolist()\n",
      "File \u001b[1;32mc:\\Users\\User\\AppData\\Local\\Programs\\Python\\Python311\\Lib\\site-packages\\sklearn\\metrics\\_classification.py:86\u001b[0m, in \u001b[0;36m_check_targets\u001b[1;34m(y_true, y_pred)\u001b[0m\n\u001b[0;32m     59\u001b[0m \u001b[39mdef\u001b[39;00m \u001b[39m_check_targets\u001b[39m(y_true, y_pred):\n\u001b[0;32m     60\u001b[0m \u001b[39m    \u001b[39m\u001b[39m\"\"\"Check that y_true and y_pred belong to the same classification task.\u001b[39;00m\n\u001b[0;32m     61\u001b[0m \n\u001b[0;32m     62\u001b[0m \u001b[39m    This converts multiclass or binary types to a common shape, and raises a\u001b[39;00m\n\u001b[1;32m   (...)\u001b[0m\n\u001b[0;32m     84\u001b[0m \u001b[39m    y_pred : array or indicator matrix\u001b[39;00m\n\u001b[0;32m     85\u001b[0m \u001b[39m    \"\"\"\u001b[39;00m\n\u001b[1;32m---> 86\u001b[0m     check_consistent_length(y_true, y_pred)\n\u001b[0;32m     87\u001b[0m     type_true \u001b[39m=\u001b[39m type_of_target(y_true, input_name\u001b[39m=\u001b[39m\u001b[39m\"\u001b[39m\u001b[39my_true\u001b[39m\u001b[39m\"\u001b[39m)\n\u001b[0;32m     88\u001b[0m     type_pred \u001b[39m=\u001b[39m type_of_target(y_pred, input_name\u001b[39m=\u001b[39m\u001b[39m\"\u001b[39m\u001b[39my_pred\u001b[39m\u001b[39m\"\u001b[39m)\n",
      "File \u001b[1;32mc:\\Users\\User\\AppData\\Local\\Programs\\Python\\Python311\\Lib\\site-packages\\sklearn\\utils\\validation.py:397\u001b[0m, in \u001b[0;36mcheck_consistent_length\u001b[1;34m(*arrays)\u001b[0m\n\u001b[0;32m    395\u001b[0m uniques \u001b[39m=\u001b[39m np\u001b[39m.\u001b[39munique(lengths)\n\u001b[0;32m    396\u001b[0m \u001b[39mif\u001b[39;00m \u001b[39mlen\u001b[39m(uniques) \u001b[39m>\u001b[39m \u001b[39m1\u001b[39m:\n\u001b[1;32m--> 397\u001b[0m     \u001b[39mraise\u001b[39;00m \u001b[39mValueError\u001b[39;00m(\n\u001b[0;32m    398\u001b[0m         \u001b[39m\"\u001b[39m\u001b[39mFound input variables with inconsistent numbers of samples: \u001b[39m\u001b[39m%r\u001b[39;00m\u001b[39m\"\u001b[39m\n\u001b[0;32m    399\u001b[0m         \u001b[39m%\u001b[39m [\u001b[39mint\u001b[39m(l) \u001b[39mfor\u001b[39;00m l \u001b[39min\u001b[39;00m lengths]\n\u001b[0;32m    400\u001b[0m     )\n",
      "\u001b[1;31mValueError\u001b[0m: Found input variables with inconsistent numbers of samples: [28, 32]"
     ]
    }
   ],
   "source": [
    "import re\n",
    "import string\n",
    "import json\n",
    "from nltk.util import bigrams\n",
    "from collections import Counter\n",
    "import csv\n",
    "\n",
    "regex_punctuation = re.compile('[%s]' % re.escape(string.punctuation))\n",
    "\n",
    "def string_to_tokens(s):\n",
    "    return ['<bos>'] + re.sub(regex_punctuation, '', s.lower()).split() + ['<eos>']\n",
    "\n",
    "def calculate_f1_score(pred_bigrams, gt_bigrams):\n",
    "    shared_ngrams = Counter(pred_bigrams) & Counter(gt_bigrams)\n",
    "    num_same = sum(shared_ngrams.values())\n",
    "    \n",
    "    if num_same == 0:\n",
    "        return 0\n",
    "    \n",
    "    precision = 1.0 * num_same / len(pred_bigrams)\n",
    "    recall = 1.0 * num_same / len(gt_bigrams)\n",
    "    f1 = (2 * precision * recall) / (precision + recall)\n",
    "    return f1\n",
    "\n",
    "# Load data from JSON file\n",
    "with open('RandomNamesNEW.json', 'r') as json_file:\n",
    "    data = json.load(json_file)\n",
    "\n",
    "# Open CSV file for writing results\n",
    "csv_filename = 'f1_scores.csv'\n",
    "with open(csv_filename, 'w', newline='') as csv_file:\n",
    "    csv_writer = csv.writer(csv_file)\n",
    "    csv_writer.writerow(['Name', 'Generated Text', 'F1 Score'])\n",
    "\n",
    "    for entry in data:\n",
    "        name = entry['name']\n",
    "        gt = entry['existing_text']\n",
    "        pred_texts = entry['generated_texts']\n",
    "        \n",
    "        gt_words = string_to_tokens(gt)\n",
    "        gt_bigrams = list(bigrams(gt_words))\n",
    "        \n",
    "        for pred in pred_texts:\n",
    "            pred_words = string_to_tokens(pred)\n",
    "            pred_bigrams = list(bigrams(pred_words))\n",
    "            \n",
    "            f1_score = calculate_f1_score(pred_bigrams, gt_bigrams)\n",
    "            \n",
    "            # Write the results to the CSV file\n",
    "            csv_writer.writerow([name, pred, f1_score])\n",
    "\n",
    "print(f\"Results saved in {csv_filename}\")\n"
   ]
  },
  {
   "cell_type": "code",
   "execution_count": null,
   "id": "e975a56a",
   "metadata": {},
   "outputs": [],
   "source": []
  },
  {
   "cell_type": "code",
   "execution_count": null,
   "id": "e26a5fe0",
   "metadata": {},
   "outputs": [],
   "source": []
  },
  {
   "cell_type": "code",
   "execution_count": null,
   "id": "db896899",
   "metadata": {},
   "outputs": [],
   "source": []
  },
  {
   "cell_type": "code",
   "execution_count": null,
   "id": "07f6c252",
   "metadata": {},
   "outputs": [],
   "source": []
  },
  {
   "cell_type": "code",
   "execution_count": 1,
   "id": "4dff0ed2",
   "metadata": {},
   "outputs": [],
   "source": [
    "import re\n",
    "import string\n",
    "from nltk.util import bigrams\n",
    "from collections import Counter\n",
    "\n",
    "regex_punctuation = re.compile('[%s]' % re.escape(string.punctuation))\n",
    "\n",
    "gt = \"Ben Shneiderman is an active and longtime research contributor with more than 400 publications  since 1972. Shneiderman's published work includes 208 journal articles  and 197 proceedings papers\"\n",
    "pred = \"Ben Shneiderman is a highly productive scientist and computer scientist. He has published over 400 works since 1972, including 208 journal articles and 197 proceedings papers. He is well known for his pioneering work on human-computer interaction and information visualization. He is a Professor of Computer Science at the University of Maryland and founding Director of the Human-Computer Interaction Lab. He has won numerous awards and honors, including the Association for Computing Machinery's Software System Award and the ACM CHI Lifetime.\"\n",
    "\n",
    "def string_to_tokens(s):\n",
    "    '''\n",
    "    This is a very basic way of tokenizing your text.\n",
    "    Probably not useful for real life datasets.\n",
    "    '''\n",
    "    return ['<bos>'] + re.sub(regex_punctuation, '' , s.lower()).split() + ['<eos>']\n",
    "\n",
    "\n",
    "gt_words = string_to_tokens(gt)\n",
    "pred_words = string_to_tokens(pred)\n",
    "print(gt_words, pred_words)\n",
    "\n",
    "\n",
    "gt_bigrams = list(bigrams(gt_words)) \n",
    "pred_bigrams = list(bigrams(pred_words)) \n",
    "print(gt_bigrams, pred_bigrams)\n",
    "\n",
    "def f1(pred_bigrams, gt_bigrams):\n",
    "    shared_ngrams = Counter(pred_bigrams) & Counter(gt_bigrams)\n",
    "    num_same = sum(shared_ngrams.values())\n",
    "    \n",
    "    if num_same == 0: return 0\n",
    "    precision = 1.0 * num_same / len(pred_bigrams)\n",
    "    recall = 1.0 * num_same / len(gt_bigrams)\n",
    "    f1 = (2 * precision * recall) / (precision + recall)\n",
    "    return f1\n",
    "\n",
    "\n",
    "f1(pred_bigrams, gt_bigrams)"
   ]
  },
  {
   "cell_type": "code",
   "execution_count": null,
   "id": "4c1287b1",
   "metadata": {},
   "outputs": [],
   "source": []
  },
  {
   "cell_type": "code",
   "execution_count": 2,
   "id": "d3d7f995",
   "metadata": {},
   "outputs": [],
   "source": [
    "gt = \"Ben Shneiderman is an active and longtime research contributor with more than 400 publications  since 1972. Shneiderman's published work includes 208 journal articles  and 197 proceedings papers\"\n",
    "pred = \"Ben Shneiderman is a highly productive scientist and computer scientist. He has published over 400 works since 1972, including 208 journal articles and 197 proceedings papers. He is well known for his pioneering work on human-computer interaction and information visualization. He is a Professor of Computer Science at the University of Maryland and founding Director of the Human-Computer Interaction Lab. He has won numerous awards and honors, including the Association for Computing Machinery's Software System Award and the ACM CHI Lifetime.\""
   ]
  },
  {
   "cell_type": "code",
   "execution_count": 3,
   "id": "c225e095",
   "metadata": {},
   "outputs": [],
   "source": [
    "def string_to_tokens(s):\n",
    "    '''\n",
    "    This is a very basic way of tokenizing your text.\n",
    "    Probably not useful for real life datasets.\n",
    "    '''\n",
    "    return ['<bos>'] + re.sub(regex_punctuation, '' , s.lower()).split() + ['<eos>']"
   ]
  },
  {
   "cell_type": "code",
   "execution_count": 4,
   "id": "1f0bb882",
   "metadata": {},
   "outputs": [
    {
     "name": "stdout",
     "output_type": "stream",
     "text": [
      "['<bos>', 'ben', 'shneiderman', 'is', 'an', 'active', 'and', 'longtime', 'research', 'contributor', 'with', 'more', 'than', '400', 'publications', 'since', '1972', 'shneidermans', 'published', 'work', 'includes', '208', 'journal', 'articles', 'and', '197', 'proceedings', 'papers', '<eos>'] ['<bos>', 'ben', 'shneiderman', 'is', 'a', 'highly', 'productive', 'scientist', 'and', 'computer', 'scientist', 'he', 'has', 'published', 'over', '400', 'works', 'since', '1972', 'including', '208', 'journal', 'articles', 'and', '197', 'proceedings', 'papers', 'he', 'is', 'well', 'known', 'for', 'his', 'pioneering', 'work', 'on', 'humancomputer', 'interaction', 'and', 'information', 'visualization', 'he', 'is', 'a', 'professor', 'of', 'computer', 'science', 'at', 'the', 'university', 'of', 'maryland', 'and', 'founding', 'director', 'of', 'the', 'humancomputer', 'interaction', 'lab', 'he', 'has', 'won', 'numerous', 'awards', 'and', 'honors', 'including', 'the', 'association', 'for', 'computing', 'machinerys', 'software', 'system', 'award', 'and', 'the', 'acm', 'chi', 'lifetime', '<eos>']\n"
     ]
    }
   ],
   "source": [
    "gt_words = string_to_tokens(gt)\n",
    "pred_words = string_to_tokens(pred)\n",
    "print(gt_words, pred_words)"
   ]
  },
  {
   "cell_type": "code",
   "execution_count": 5,
   "id": "27f1721c",
   "metadata": {},
   "outputs": [
    {
     "name": "stdout",
     "output_type": "stream",
     "text": [
      "[('<bos>', 'ben'), ('ben', 'shneiderman'), ('shneiderman', 'is'), ('is', 'an'), ('an', 'active'), ('active', 'and'), ('and', 'longtime'), ('longtime', 'research'), ('research', 'contributor'), ('contributor', 'with'), ('with', 'more'), ('more', 'than'), ('than', '400'), ('400', 'publications'), ('publications', 'since'), ('since', '1972'), ('1972', 'shneidermans'), ('shneidermans', 'published'), ('published', 'work'), ('work', 'includes'), ('includes', '208'), ('208', 'journal'), ('journal', 'articles'), ('articles', 'and'), ('and', '197'), ('197', 'proceedings'), ('proceedings', 'papers'), ('papers', '<eos>')] [('<bos>', 'ben'), ('ben', 'shneiderman'), ('shneiderman', 'is'), ('is', 'a'), ('a', 'highly'), ('highly', 'productive'), ('productive', 'scientist'), ('scientist', 'and'), ('and', 'computer'), ('computer', 'scientist'), ('scientist', 'he'), ('he', 'has'), ('has', 'published'), ('published', 'over'), ('over', '400'), ('400', 'works'), ('works', 'since'), ('since', '1972'), ('1972', 'including'), ('including', '208'), ('208', 'journal'), ('journal', 'articles'), ('articles', 'and'), ('and', '197'), ('197', 'proceedings'), ('proceedings', 'papers'), ('papers', 'he'), ('he', 'is'), ('is', 'well'), ('well', 'known'), ('known', 'for'), ('for', 'his'), ('his', 'pioneering'), ('pioneering', 'work'), ('work', 'on'), ('on', 'humancomputer'), ('humancomputer', 'interaction'), ('interaction', 'and'), ('and', 'information'), ('information', 'visualization'), ('visualization', 'he'), ('he', 'is'), ('is', 'a'), ('a', 'professor'), ('professor', 'of'), ('of', 'computer'), ('computer', 'science'), ('science', 'at'), ('at', 'the'), ('the', 'university'), ('university', 'of'), ('of', 'maryland'), ('maryland', 'and'), ('and', 'founding'), ('founding', 'director'), ('director', 'of'), ('of', 'the'), ('the', 'humancomputer'), ('humancomputer', 'interaction'), ('interaction', 'lab'), ('lab', 'he'), ('he', 'has'), ('has', 'won'), ('won', 'numerous'), ('numerous', 'awards'), ('awards', 'and'), ('and', 'honors'), ('honors', 'including'), ('including', 'the'), ('the', 'association'), ('association', 'for'), ('for', 'computing'), ('computing', 'machinerys'), ('machinerys', 'software'), ('software', 'system'), ('system', 'award'), ('award', 'and'), ('and', 'the'), ('the', 'acm'), ('acm', 'chi'), ('chi', 'lifetime'), ('lifetime', '<eos>')]\n"
     ]
    }
   ],
   "source": [
    "gt_bigrams = list(bigrams(gt_words)) \n",
    "pred_bigrams = list(bigrams(pred_words)) \n",
    "print(gt_bigrams, pred_bigrams)"
   ]
  },
  {
   "cell_type": "markdown",
   "id": "ff6c9cff",
   "metadata": {},
   "source": [
    "![f1 formula](https://wikimedia.org/api/rest_v1/media/math/render/svg/f5c869c51dba6f1df65a6e6630c516de161632d4)"
   ]
  },
  {
   "cell_type": "code",
   "execution_count": 6,
   "id": "eda31f54",
   "metadata": {},
   "outputs": [],
   "source": [
    "def f1(pred_bigrams, gt_bigrams):\n",
    "    shared_ngrams = Counter(pred_bigrams) & Counter(gt_bigrams)\n",
    "    num_same = sum(shared_ngrams.values())\n",
    "    \n",
    "    if num_same == 0: return 0\n",
    "    precision = 1.0 * num_same / len(pred_bigrams)\n",
    "    recall = 1.0 * num_same / len(gt_bigrams)\n",
    "    f1 = (2 * precision * recall) / (precision + recall)\n",
    "    return f1"
   ]
  },
  {
   "cell_type": "code",
   "execution_count": 7,
   "id": "8613bb0e",
   "metadata": {},
   "outputs": [
    {
     "data": {
      "text/plain": [
       "0.18181818181818182"
      ]
     },
     "execution_count": 7,
     "metadata": {},
     "output_type": "execute_result"
    }
   ],
   "source": [
    "f1(pred_bigrams, gt_bigrams)"
   ]
  },
  {
   "cell_type": "code",
   "execution_count": 12,
   "id": "056863bd",
   "metadata": {},
   "outputs": [
    {
     "data": {
      "text/plain": [
       "0.2926829268292683"
      ]
     },
     "execution_count": 12,
     "metadata": {},
     "output_type": "execute_result"
    }
   ],
   "source": [
    "pred_bigrams = list(bigrams(string_to_tokens('Renowned Computer Scientist (1972-present), 400 Publications, 208 Journal Articles, 197 Proceedings Papers.')))\n",
    "f1(pred_bigrams, gt_bigrams)"
   ]
  },
  {
   "cell_type": "code",
   "execution_count": 13,
   "id": "8462c989",
   "metadata": {},
   "outputs": [
    {
     "data": {
      "text/plain": [
       "0.5416666666666667"
      ]
     },
     "execution_count": 13,
     "metadata": {},
     "output_type": "execute_result"
    }
   ],
   "source": [
    "pred_bigrams = list(bigrams(string_to_tokens('Ben Shneiderman is a scientist with over 400 publications since 1972, including 208 journal articles and 197 proceedings papers.')))\n",
    "f1(pred_bigrams, gt_bigrams)"
   ]
  },
  {
   "cell_type": "markdown",
   "id": "d850c8a3",
   "metadata": {},
   "source": [
    "## BERTscore"
   ]
  },
  {
   "cell_type": "code",
   "execution_count": 16,
   "id": "2dc1d5f8",
   "metadata": {},
   "outputs": [
    {
     "name": "stdout",
     "output_type": "stream",
     "text": [
      "Collecting evaluate\n",
      "  Downloading evaluate-0.4.0-py3-none-any.whl (81 kB)\n",
      "                                              0.0/81.4 kB ? eta -:--:--\n",
      "     -----                                    10.2/81.4 kB ? eta -:--:--\n",
      "     ---------------------------------------- 81.4/81.4 kB 1.5 MB/s eta 0:00:00\n",
      "Collecting datasets>=2.0.0 (from evaluate)\n",
      "  Downloading datasets-2.14.4-py3-none-any.whl (519 kB)\n",
      "                                              0.0/519.3 kB ? eta -:--:--\n",
      "     --                                    41.0/519.3 kB 991.0 kB/s eta 0:00:01\n",
      "     --------                               112.6/519.3 kB 1.3 MB/s eta 0:00:01\n",
      "     ------------                           174.1/519.3 kB 1.5 MB/s eta 0:00:01\n",
      "     -----------------                      245.8/519.3 kB 1.4 MB/s eta 0:00:01\n",
      "     ----------------------                 307.2/519.3 kB 1.4 MB/s eta 0:00:01\n",
      "     ----------------------------           389.1/519.3 kB 1.4 MB/s eta 0:00:01\n",
      "     --------------------------------       440.3/519.3 kB 1.4 MB/s eta 0:00:01\n",
      "     --------------------------------       440.3/519.3 kB 1.4 MB/s eta 0:00:01\n",
      "     -------------------------------------- 519.3/519.3 kB 1.3 MB/s eta 0:00:00\n",
      "Requirement already satisfied: numpy>=1.17 in c:\\users\\user\\appdata\\local\\programs\\python\\python311\\lib\\site-packages (from evaluate) (1.25.0)\n",
      "Collecting dill (from evaluate)\n",
      "  Downloading dill-0.3.7-py3-none-any.whl (115 kB)\n",
      "                                              0.0/115.3 kB ? eta -:--:--\n",
      "     ---                                      10.2/115.3 kB ? eta -:--:--\n",
      "     -------------------                   61.4/115.3 kB 812.7 kB/s eta 0:00:01\n",
      "     -----------------------------         92.2/115.3 kB 744.7 kB/s eta 0:00:01\n",
      "     ------------------------------------ 115.3/115.3 kB 668.9 kB/s eta 0:00:00\n",
      "Requirement already satisfied: pandas in c:\\users\\user\\appdata\\local\\programs\\python\\python311\\lib\\site-packages (from evaluate) (2.0.2)\n",
      "Requirement already satisfied: requests>=2.19.0 in c:\\users\\user\\appdata\\local\\programs\\python\\python311\\lib\\site-packages (from evaluate) (2.28.2)\n",
      "Requirement already satisfied: tqdm>=4.62.1 in c:\\users\\user\\appdata\\local\\programs\\python\\python311\\lib\\site-packages (from evaluate) (4.65.0)\n",
      "Collecting xxhash (from evaluate)\n",
      "  Downloading xxhash-3.3.0-cp311-cp311-win_amd64.whl (29 kB)\n",
      "Collecting multiprocess (from evaluate)\n",
      "  Downloading multiprocess-0.70.15-py311-none-any.whl (135 kB)\n",
      "                                              0.0/135.4 kB ? eta -:--:--\n",
      "     ---                                      10.2/135.4 kB ? eta -:--:--\n",
      "     ---                                      10.2/135.4 kB ? eta -:--:--\n",
      "     -------------                         51.2/135.4 kB 372.4 kB/s eta 0:00:01\n",
      "     -------------                         51.2/135.4 kB 372.4 kB/s eta 0:00:01\n",
      "     -------------                         51.2/135.4 kB 372.4 kB/s eta 0:00:01\n",
      "     -------------                         51.2/135.4 kB 372.4 kB/s eta 0:00:01\n",
      "     -------------                         51.2/135.4 kB 372.4 kB/s eta 0:00:01\n",
      "     -------------                         51.2/135.4 kB 372.4 kB/s eta 0:00:01\n",
      "     -------------                         51.2/135.4 kB 372.4 kB/s eta 0:00:01\n",
      "     -------------                         51.2/135.4 kB 372.4 kB/s eta 0:00:01\n",
      "     -------------                         51.2/135.4 kB 372.4 kB/s eta 0:00:01\n",
      "     -------------                         51.2/135.4 kB 372.4 kB/s eta 0:00:01\n",
      "     -------------                         51.2/135.4 kB 372.4 kB/s eta 0:00:01\n",
      "     ----------------------                81.9/135.4 kB 117.5 kB/s eta 0:00:01\n",
      "     ----------------------                81.9/135.4 kB 117.5 kB/s eta 0:00:01\n",
      "     ----------------------                81.9/135.4 kB 117.5 kB/s eta 0:00:01\n",
      "     ----------------------                81.9/135.4 kB 117.5 kB/s eta 0:00:01\n",
      "     ----------------------                81.9/135.4 kB 117.5 kB/s eta 0:00:01\n",
      "     ----------------------                81.9/135.4 kB 117.5 kB/s eta 0:00:01\n",
      "     ----------------------                81.9/135.4 kB 117.5 kB/s eta 0:00:01\n",
      "     -------------------------              92.2/135.4 kB 87.3 kB/s eta 0:00:01\n",
      "     -------------------------              92.2/135.4 kB 87.3 kB/s eta 0:00:01\n",
      "     -------------------------              92.2/135.4 kB 87.3 kB/s eta 0:00:01\n",
      "     -------------------------              92.2/135.4 kB 87.3 kB/s eta 0:00:01\n",
      "     ------------------------------        112.6/135.4 kB 91.0 kB/s eta 0:00:01\n",
      "     ------------------------------        112.6/135.4 kB 91.0 kB/s eta 0:00:01\n",
      "     ------------------------------        112.6/135.4 kB 91.0 kB/s eta 0:00:01\n",
      "     ------------------------------        112.6/135.4 kB 91.0 kB/s eta 0:00:01\n",
      "     ------------------------------        112.6/135.4 kB 91.0 kB/s eta 0:00:01\n",
      "     ------------------------------        112.6/135.4 kB 91.0 kB/s eta 0:00:01\n",
      "     ------------------------------        112.6/135.4 kB 91.0 kB/s eta 0:00:01\n",
      "     ------------------------------        112.6/135.4 kB 91.0 kB/s eta 0:00:01\n",
      "     ------------------------------        112.6/135.4 kB 91.0 kB/s eta 0:00:01\n",
      "     ------------------------------------- 135.4/135.4 kB 80.9 kB/s eta 0:00:00\n",
      "Requirement already satisfied: fsspec[http]>=2021.05.0 in c:\\users\\user\\appdata\\local\\programs\\python\\python311\\lib\\site-packages (from evaluate) (2023.5.0)\n",
      "Requirement already satisfied: huggingface-hub>=0.7.0 in c:\\users\\user\\appdata\\local\\programs\\python\\python311\\lib\\site-packages (from evaluate) (0.14.1)\n",
      "Requirement already satisfied: packaging in c:\\users\\user\\appdata\\local\\programs\\python\\python311\\lib\\site-packages (from evaluate) (23.1)\n",
      "Collecting responses<0.19 (from evaluate)\n",
      "  Downloading responses-0.18.0-py3-none-any.whl (38 kB)\n",
      "Collecting pyarrow>=8.0.0 (from datasets>=2.0.0->evaluate)\n",
      "  Downloading pyarrow-12.0.1-cp311-cp311-win_amd64.whl (21.5 MB)\n",
      "                                              0.0/21.5 MB ? eta -:--:--\n",
      "                                              0.0/21.5 MB ? eta -:--:--\n",
      "                                              0.0/21.5 MB ? eta -:--:--\n",
      "                                              0.0/21.5 MB ? eta -:--:--\n",
      "                                             0.0/21.5 MB 217.9 kB/s eta 0:01:39\n",
      "                                             0.0/21.5 MB 217.9 kB/s eta 0:01:39\n",
      "                                             0.0/21.5 MB 195.7 kB/s eta 0:01:50\n",
      "                                             0.1/21.5 MB 251.0 kB/s eta 0:01:26\n",
      "                                             0.1/21.5 MB 251.0 kB/s eta 0:01:26\n",
      "                                             0.1/21.5 MB 251.0 kB/s eta 0:01:26\n",
      "                                             0.1/21.5 MB 170.7 kB/s eta 0:02:06\n",
      "                                             0.1/21.5 MB 170.7 kB/s eta 0:02:06\n",
      "                                             0.1/21.5 MB 187.0 kB/s eta 0:01:55\n",
      "                                             0.1/21.5 MB 211.1 kB/s eta 0:01:42\n",
      "                                             0.1/21.5 MB 236.4 kB/s eta 0:01:31\n",
      "                                             0.2/21.5 MB 235.0 kB/s eta 0:01:31\n",
      "                                             0.2/21.5 MB 255.6 kB/s eta 0:01:24\n",
      "                                             0.2/21.5 MB 267.9 kB/s eta 0:01:20\n",
      "                                             0.2/21.5 MB 270.6 kB/s eta 0:01:19\n",
      "                                             0.2/21.5 MB 280.7 kB/s eta 0:01:16\n",
      "                                             0.2/21.5 MB 277.1 kB/s eta 0:01:17\n",
      "                                             0.3/21.5 MB 285.8 kB/s eta 0:01:15\n",
      "                                             0.3/21.5 MB 293.5 kB/s eta 0:01:13\n",
      "                                             0.3/21.5 MB 301.5 kB/s eta 0:01:11\n",
      "                                             0.3/21.5 MB 302.4 kB/s eta 0:01:10\n",
      "                                             0.4/21.5 MB 322.7 kB/s eta 0:01:06\n",
      "                                             0.4/21.5 MB 341.3 kB/s eta 0:01:02\n",
      "                                             0.4/21.5 MB 358.2 kB/s eta 0:00:59\n",
      "                                             0.5/21.5 MB 374.2 kB/s eta 0:00:57\n",
      "                                             0.5/21.5 MB 396.3 kB/s eta 0:00:53\n",
      "     -                                       0.6/21.5 MB 413.3 kB/s eta 0:00:51\n",
      "     -                                       0.6/21.5 MB 449.5 kB/s eta 0:00:47\n",
      "     -                                       0.7/21.5 MB 463.8 kB/s eta 0:00:45\n",
      "     -                                       0.7/21.5 MB 484.2 kB/s eta 0:00:43\n",
      "     -                                       0.8/21.5 MB 503.4 kB/s eta 0:00:42\n",
      "     -                                       0.8/21.5 MB 528.0 kB/s eta 0:00:40\n",
      "     -                                       0.9/21.5 MB 550.3 kB/s eta 0:00:38\n",
      "     -                                       0.9/21.5 MB 566.1 kB/s eta 0:00:37\n",
      "     -                                       1.0/21.5 MB 581.8 kB/s eta 0:00:36\n",
      "     -                                       1.0/21.5 MB 601.7 kB/s eta 0:00:34\n",
      "     --                                      1.1/21.5 MB 620.4 kB/s eta 0:00:33\n",
      "     --                                      1.2/21.5 MB 649.6 kB/s eta 0:00:32\n",
      "     --                                      1.2/21.5 MB 655.1 kB/s eta 0:00:31\n",
      "     --                                      1.3/21.5 MB 660.5 kB/s eta 0:00:31\n",
      "     --                                      1.3/21.5 MB 686.9 kB/s eta 0:00:30\n",
      "     --                                      1.4/21.5 MB 696.4 kB/s eta 0:00:29\n",
      "     --                                      1.4/21.5 MB 700.5 kB/s eta 0:00:29\n",
      "     --                                      1.5/21.5 MB 714.0 kB/s eta 0:00:28\n",
      "     --                                      1.6/21.5 MB 736.6 kB/s eta 0:00:27\n",
      "     ---                                     1.7/21.5 MB 759.0 kB/s eta 0:00:27\n",
      "     ---                                     1.7/21.5 MB 769.7 kB/s eta 0:00:26\n",
      "     ---                                     1.8/21.5 MB 795.3 kB/s eta 0:00:25\n",
      "     ---                                     1.9/21.5 MB 800.2 kB/s eta 0:00:25\n",
      "     ---                                     1.9/21.5 MB 815.7 kB/s eta 0:00:24\n",
      "     ---                                     2.0/21.5 MB 837.1 kB/s eta 0:00:24\n",
      "     ---                                     2.1/21.5 MB 851.2 kB/s eta 0:00:23\n",
      "     ---                                     2.2/21.5 MB 864.3 kB/s eta 0:00:23\n",
      "     ----                                    2.3/21.5 MB 880.5 kB/s eta 0:00:22\n",
      "     ----                                    2.3/21.5 MB 896.1 kB/s eta 0:00:22\n",
      "     ----                                    2.4/21.5 MB 911.2 kB/s eta 0:00:21\n",
      "     ----                                    2.5/21.5 MB 929.5 kB/s eta 0:00:21\n",
      "     ----                                    2.6/21.5 MB 939.8 kB/s eta 0:00:21\n",
      "     ----                                    2.7/21.5 MB 957.0 kB/s eta 0:00:20\n",
      "     -----                                   2.8/21.5 MB 977.3 kB/s eta 0:00:20\n",
      "     -----                                   2.9/21.5 MB 990.2 kB/s eta 0:00:19\n",
      "     -----                                    2.9/21.5 MB 1.0 MB/s eta 0:00:19\n",
      "     -----                                    3.0/21.5 MB 1.0 MB/s eta 0:00:19\n",
      "     -----                                    3.1/21.5 MB 1.0 MB/s eta 0:00:18\n",
      "     -----                                    3.2/21.5 MB 1.0 MB/s eta 0:00:18\n",
      "     ------                                   3.3/21.5 MB 1.1 MB/s eta 0:00:17\n",
      "     ------                                   3.4/21.5 MB 1.1 MB/s eta 0:00:17\n",
      "     ------                                   3.5/21.5 MB 1.1 MB/s eta 0:00:17\n",
      "     ------                                   3.6/21.5 MB 1.1 MB/s eta 0:00:17\n",
      "     ------                                   3.7/21.5 MB 1.1 MB/s eta 0:00:16\n",
      "     -------                                  3.8/21.5 MB 1.1 MB/s eta 0:00:16\n",
      "     -------                                  3.9/21.5 MB 1.1 MB/s eta 0:00:16\n",
      "     -------                                  4.0/21.5 MB 1.2 MB/s eta 0:00:15\n",
      "     -------                                  4.1/21.5 MB 1.2 MB/s eta 0:00:15\n",
      "     -------                                  4.2/21.5 MB 1.2 MB/s eta 0:00:15\n",
      "     -------                                  4.3/21.5 MB 1.2 MB/s eta 0:00:15\n",
      "     --------                                 4.4/21.5 MB 1.2 MB/s eta 0:00:15\n",
      "     --------                                 4.5/21.5 MB 1.2 MB/s eta 0:00:14\n",
      "     --------                                 4.6/21.5 MB 1.2 MB/s eta 0:00:14\n",
      "     --------                                 4.7/21.5 MB 1.3 MB/s eta 0:00:14\n",
      "     --------                                 4.8/21.5 MB 1.3 MB/s eta 0:00:14\n",
      "     ---------                                5.0/21.5 MB 1.3 MB/s eta 0:00:13\n",
      "     ---------                                5.1/21.5 MB 1.3 MB/s eta 0:00:13\n",
      "     ---------                                5.2/21.5 MB 1.3 MB/s eta 0:00:13\n",
      "     ---------                                5.3/21.5 MB 1.3 MB/s eta 0:00:13\n",
      "     ----------                               5.4/21.5 MB 1.4 MB/s eta 0:00:12\n",
      "     ----------                               5.6/21.5 MB 1.4 MB/s eta 0:00:12\n",
      "     ----------                               5.7/21.5 MB 1.4 MB/s eta 0:00:12\n",
      "     ----------                               5.8/21.5 MB 1.4 MB/s eta 0:00:12\n",
      "     ----------                               5.9/21.5 MB 1.4 MB/s eta 0:00:12\n",
      "     -----------                              6.0/21.5 MB 1.4 MB/s eta 0:00:11\n",
      "     -----------                              6.2/21.5 MB 1.4 MB/s eta 0:00:11\n",
      "     -----------                              6.3/21.5 MB 1.4 MB/s eta 0:00:11\n",
      "     -----------                              6.4/21.5 MB 1.4 MB/s eta 0:00:11\n",
      "     ------------                             6.5/21.5 MB 1.5 MB/s eta 0:00:11\n",
      "     ------------                             6.6/21.5 MB 1.5 MB/s eta 0:00:11\n",
      "     ------------                             6.8/21.5 MB 1.5 MB/s eta 0:00:10\n",
      "     ------------                             6.9/21.5 MB 1.5 MB/s eta 0:00:10\n",
      "     ------------                             6.9/21.5 MB 1.5 MB/s eta 0:00:10\n",
      "     -------------                            7.1/21.5 MB 1.5 MB/s eta 0:00:10\n",
      "     -------------                            7.2/21.5 MB 1.5 MB/s eta 0:00:10\n",
      "     -------------                            7.3/21.5 MB 1.5 MB/s eta 0:00:10\n",
      "     -------------                            7.5/21.5 MB 1.5 MB/s eta 0:00:10\n",
      "     --------------                           7.6/21.5 MB 1.6 MB/s eta 0:00:09\n",
      "     --------------                           7.7/21.5 MB 1.6 MB/s eta 0:00:09\n",
      "     --------------                           7.9/21.5 MB 1.6 MB/s eta 0:00:09\n",
      "     --------------                           8.0/21.5 MB 1.6 MB/s eta 0:00:09\n",
      "     ---------------                          8.2/21.5 MB 1.6 MB/s eta 0:00:09\n",
      "     ---------------                          8.3/21.5 MB 1.6 MB/s eta 0:00:09\n",
      "     ---------------                          8.4/21.5 MB 1.6 MB/s eta 0:00:08\n",
      "     ---------------                          8.6/21.5 MB 1.7 MB/s eta 0:00:08\n",
      "     ----------------                         8.7/21.5 MB 1.7 MB/s eta 0:00:08\n",
      "     ----------------                         8.9/21.5 MB 1.7 MB/s eta 0:00:08\n",
      "     ----------------                         9.0/21.5 MB 1.7 MB/s eta 0:00:08\n",
      "     -----------------                        9.1/21.5 MB 1.7 MB/s eta 0:00:08\n",
      "     -----------------                        9.3/21.5 MB 1.7 MB/s eta 0:00:08\n",
      "     -----------------                        9.5/21.5 MB 1.7 MB/s eta 0:00:07\n",
      "     -----------------                        9.6/21.5 MB 1.7 MB/s eta 0:00:07\n",
      "     ------------------                       9.8/21.5 MB 1.8 MB/s eta 0:00:07\n",
      "     ------------------                       9.9/21.5 MB 1.8 MB/s eta 0:00:07\n",
      "     ------------------                       10.0/21.5 MB 1.8 MB/s eta 0:00:07\n",
      "     -------------------                      10.2/21.5 MB 1.8 MB/s eta 0:00:07\n",
      "     -------------------                      10.3/21.5 MB 1.9 MB/s eta 0:00:06\n",
      "     -------------------                      10.5/21.5 MB 2.1 MB/s eta 0:00:06\n",
      "     -------------------                      10.6/21.5 MB 2.2 MB/s eta 0:00:05\n",
      "     --------------------                     10.9/21.5 MB 2.3 MB/s eta 0:00:05\n",
      "     --------------------                     11.0/21.5 MB 2.3 MB/s eta 0:00:05\n",
      "     --------------------                     11.2/21.5 MB 2.4 MB/s eta 0:00:05\n",
      "     --------------------                     11.2/21.5 MB 2.4 MB/s eta 0:00:05\n",
      "     ---------------------                    11.4/21.5 MB 2.4 MB/s eta 0:00:05\n",
      "     ---------------------                    11.6/21.5 MB 2.5 MB/s eta 0:00:05\n",
      "     ---------------------                    11.7/21.5 MB 2.5 MB/s eta 0:00:04\n",
      "     ---------------------                    11.8/21.5 MB 2.5 MB/s eta 0:00:04\n",
      "     ----------------------                   11.9/21.5 MB 2.5 MB/s eta 0:00:04\n",
      "     ----------------------                   12.0/21.5 MB 2.5 MB/s eta 0:00:04\n",
      "     ----------------------                   12.2/21.5 MB 2.6 MB/s eta 0:00:04\n",
      "     -----------------------                  12.4/21.5 MB 2.6 MB/s eta 0:00:04\n",
      "     -----------------------                  12.5/21.5 MB 2.7 MB/s eta 0:00:04\n",
      "     -----------------------                  12.7/21.5 MB 2.7 MB/s eta 0:00:04\n",
      "     -----------------------                  12.9/21.5 MB 2.7 MB/s eta 0:00:04\n",
      "     ------------------------                 13.1/21.5 MB 2.8 MB/s eta 0:00:04\n",
      "     ------------------------                 13.2/21.5 MB 2.8 MB/s eta 0:00:03\n",
      "     ------------------------                 13.3/21.5 MB 2.8 MB/s eta 0:00:03\n",
      "     -------------------------                13.4/21.5 MB 2.8 MB/s eta 0:00:03\n",
      "     -------------------------                13.7/21.5 MB 2.8 MB/s eta 0:00:03\n",
      "     -------------------------                13.9/21.5 MB 2.9 MB/s eta 0:00:03\n",
      "     --------------------------               14.0/21.5 MB 2.9 MB/s eta 0:00:03\n",
      "     --------------------------               14.1/21.5 MB 2.9 MB/s eta 0:00:03\n",
      "     --------------------------               14.3/21.5 MB 3.0 MB/s eta 0:00:03\n",
      "     ---------------------------              14.5/21.5 MB 3.0 MB/s eta 0:00:03\n",
      "     ---------------------------              14.7/21.5 MB 3.0 MB/s eta 0:00:03\n",
      "     ---------------------------              14.8/21.5 MB 3.0 MB/s eta 0:00:03\n",
      "     ---------------------------              15.0/21.5 MB 3.0 MB/s eta 0:00:03\n",
      "     ----------------------------             15.1/21.5 MB 3.0 MB/s eta 0:00:03\n",
      "     ----------------------------             15.3/21.5 MB 3.1 MB/s eta 0:00:02\n",
      "     ----------------------------             15.5/21.5 MB 3.1 MB/s eta 0:00:02\n",
      "     -----------------------------            15.7/21.5 MB 3.1 MB/s eta 0:00:02\n",
      "     -----------------------------            15.8/21.5 MB 3.1 MB/s eta 0:00:02\n",
      "     -----------------------------            16.0/21.5 MB 3.2 MB/s eta 0:00:02\n",
      "     ------------------------------           16.2/21.5 MB 3.2 MB/s eta 0:00:02\n",
      "     ------------------------------           16.4/21.5 MB 3.2 MB/s eta 0:00:02\n",
      "     -------------------------------          16.6/21.5 MB 3.3 MB/s eta 0:00:02\n",
      "     -------------------------------          16.8/21.5 MB 3.3 MB/s eta 0:00:02\n",
      "     -------------------------------          17.0/21.5 MB 3.3 MB/s eta 0:00:02\n",
      "     --------------------------------         17.2/21.5 MB 3.4 MB/s eta 0:00:02\n",
      "     --------------------------------         17.4/21.5 MB 3.4 MB/s eta 0:00:02\n",
      "     --------------------------------         17.6/21.5 MB 3.4 MB/s eta 0:00:02\n",
      "     ---------------------------------        17.8/21.5 MB 3.5 MB/s eta 0:00:02\n",
      "     ---------------------------------        18.1/21.5 MB 3.5 MB/s eta 0:00:01\n",
      "     ---------------------------------        18.2/21.5 MB 3.5 MB/s eta 0:00:01\n",
      "     ----------------------------------       18.5/21.5 MB 3.6 MB/s eta 0:00:01\n",
      "     ----------------------------------       18.8/21.5 MB 3.6 MB/s eta 0:00:01\n",
      "     -----------------------------------      19.0/21.5 MB 3.7 MB/s eta 0:00:01\n",
      "     -----------------------------------      19.2/21.5 MB 3.7 MB/s eta 0:00:01\n",
      "     ------------------------------------     19.5/21.5 MB 3.8 MB/s eta 0:00:01\n",
      "     ------------------------------------     19.8/21.5 MB 3.8 MB/s eta 0:00:01\n",
      "     -------------------------------------    20.0/21.5 MB 3.8 MB/s eta 0:00:01\n",
      "     -------------------------------------    20.1/21.5 MB 3.8 MB/s eta 0:00:01\n",
      "     -------------------------------------    20.3/21.5 MB 3.9 MB/s eta 0:00:01\n",
      "     --------------------------------------   20.7/21.5 MB 3.9 MB/s eta 0:00:01\n",
      "     ---------------------------------------  21.0/21.5 MB 4.0 MB/s eta 0:00:01\n",
      "     ---------------------------------------  21.2/21.5 MB 4.0 MB/s eta 0:00:01\n",
      "     ---------------------------------------  21.5/21.5 MB 4.1 MB/s eta 0:00:01\n",
      "     ---------------------------------------  21.5/21.5 MB 4.1 MB/s eta 0:00:01\n",
      "     ---------------------------------------- 21.5/21.5 MB 4.0 MB/s eta 0:00:00\n",
      "Requirement already satisfied: aiohttp in c:\\users\\user\\appdata\\local\\programs\\python\\python311\\lib\\site-packages (from datasets>=2.0.0->evaluate) (3.8.4)\n",
      "Requirement already satisfied: pyyaml>=5.1 in c:\\users\\user\\appdata\\local\\programs\\python\\python311\\lib\\site-packages (from datasets>=2.0.0->evaluate) (6.0)\n",
      "Requirement already satisfied: filelock in c:\\users\\user\\appdata\\local\\programs\\python\\python311\\lib\\site-packages (from huggingface-hub>=0.7.0->evaluate) (3.12.0)\n",
      "Requirement already satisfied: typing-extensions>=3.7.4.3 in c:\\users\\user\\appdata\\local\\programs\\python\\python311\\lib\\site-packages (from huggingface-hub>=0.7.0->evaluate) (4.5.0)\n",
      "Requirement already satisfied: charset-normalizer<4,>=2 in c:\\users\\user\\appdata\\local\\programs\\python\\python311\\lib\\site-packages (from requests>=2.19.0->evaluate) (3.1.0)\n",
      "Requirement already satisfied: idna<4,>=2.5 in c:\\users\\user\\appdata\\local\\programs\\python\\python311\\lib\\site-packages (from requests>=2.19.0->evaluate) (3.4)\n",
      "Requirement already satisfied: urllib3<1.27,>=1.21.1 in c:\\users\\user\\appdata\\local\\programs\\python\\python311\\lib\\site-packages (from requests>=2.19.0->evaluate) (1.26.15)\n",
      "Requirement already satisfied: certifi>=2017.4.17 in c:\\users\\user\\appdata\\local\\programs\\python\\python311\\lib\\site-packages (from requests>=2.19.0->evaluate) (2022.12.7)\n",
      "Requirement already satisfied: colorama in c:\\users\\user\\appdata\\local\\programs\\python\\python311\\lib\\site-packages (from tqdm>=4.62.1->evaluate) (0.4.6)\n",
      "Requirement already satisfied: python-dateutil>=2.8.2 in c:\\users\\user\\appdata\\roaming\\python\\python311\\site-packages (from pandas->evaluate) (2.8.2)\n",
      "Requirement already satisfied: pytz>=2020.1 in c:\\users\\user\\appdata\\local\\programs\\python\\python311\\lib\\site-packages (from pandas->evaluate) (2023.3)\n",
      "Requirement already satisfied: tzdata>=2022.1 in c:\\users\\user\\appdata\\local\\programs\\python\\python311\\lib\\site-packages (from pandas->evaluate) (2023.3)\n",
      "Requirement already satisfied: attrs>=17.3.0 in c:\\users\\user\\appdata\\local\\programs\\python\\python311\\lib\\site-packages (from aiohttp->datasets>=2.0.0->evaluate) (23.1.0)\n",
      "Requirement already satisfied: multidict<7.0,>=4.5 in c:\\users\\user\\appdata\\local\\programs\\python\\python311\\lib\\site-packages (from aiohttp->datasets>=2.0.0->evaluate) (6.0.4)\n",
      "Requirement already satisfied: async-timeout<5.0,>=4.0.0a3 in c:\\users\\user\\appdata\\local\\programs\\python\\python311\\lib\\site-packages (from aiohttp->datasets>=2.0.0->evaluate) (4.0.2)\n",
      "Requirement already satisfied: yarl<2.0,>=1.0 in c:\\users\\user\\appdata\\local\\programs\\python\\python311\\lib\\site-packages (from aiohttp->datasets>=2.0.0->evaluate) (1.9.2)\n",
      "Requirement already satisfied: frozenlist>=1.1.1 in c:\\users\\user\\appdata\\local\\programs\\python\\python311\\lib\\site-packages (from aiohttp->datasets>=2.0.0->evaluate) (1.3.3)\n",
      "Requirement already satisfied: aiosignal>=1.1.2 in c:\\users\\user\\appdata\\local\\programs\\python\\python311\\lib\\site-packages (from aiohttp->datasets>=2.0.0->evaluate) (1.3.1)\n",
      "Requirement already satisfied: six>=1.5 in c:\\users\\user\\appdata\\local\\programs\\python\\python311\\lib\\site-packages (from python-dateutil>=2.8.2->pandas->evaluate) (1.16.0)\n",
      "Installing collected packages: xxhash, pyarrow, dill, responses, multiprocess, datasets, evaluate\n",
      "Successfully installed datasets-2.14.4 dill-0.3.7 evaluate-0.4.0 multiprocess-0.70.15 pyarrow-12.0.1 responses-0.18.0 xxhash-3.3.0\n"
     ]
    },
    {
     "name": "stderr",
     "output_type": "stream",
     "text": [
      "\n",
      "[notice] A new release of pip is available: 23.1.2 -> 23.2.1\n",
      "[notice] To update, run: python.exe -m pip install --upgrade pip\n"
     ]
    },
    {
     "name": "stdout",
     "output_type": "stream",
     "text": [
      "Collecting bert_score\n",
      "  Downloading bert_score-0.3.13-py3-none-any.whl (61 kB)\n",
      "                                              0.0/61.1 kB ? eta -:--:--\n",
      "     ---------------------------------------- 61.1/61.1 kB 1.6 MB/s eta 0:00:00\n",
      "Requirement already satisfied: torch>=1.0.0 in c:\\users\\user\\appdata\\local\\programs\\python\\python311\\lib\\site-packages (from bert_score) (2.0.1)\n",
      "Requirement already satisfied: pandas>=1.0.1 in c:\\users\\user\\appdata\\local\\programs\\python\\python311\\lib\\site-packages (from bert_score) (2.0.2)\n",
      "Requirement already satisfied: transformers>=3.0.0 in c:\\users\\user\\appdata\\local\\programs\\python\\python311\\lib\\site-packages (from bert_score) (4.29.0)\n",
      "Requirement already satisfied: numpy in c:\\users\\user\\appdata\\local\\programs\\python\\python311\\lib\\site-packages (from bert_score) (1.25.0)\n",
      "Requirement already satisfied: requests in c:\\users\\user\\appdata\\local\\programs\\python\\python311\\lib\\site-packages (from bert_score) (2.28.2)\n",
      "Requirement already satisfied: tqdm>=4.31.1 in c:\\users\\user\\appdata\\local\\programs\\python\\python311\\lib\\site-packages (from bert_score) (4.65.0)\n",
      "Requirement already satisfied: matplotlib in c:\\users\\user\\appdata\\local\\programs\\python\\python311\\lib\\site-packages (from bert_score) (3.7.1)\n",
      "Requirement already satisfied: packaging>=20.9 in c:\\users\\user\\appdata\\local\\programs\\python\\python311\\lib\\site-packages (from bert_score) (23.1)\n",
      "Requirement already satisfied: python-dateutil>=2.8.2 in c:\\users\\user\\appdata\\roaming\\python\\python311\\site-packages (from pandas>=1.0.1->bert_score) (2.8.2)\n",
      "Requirement already satisfied: pytz>=2020.1 in c:\\users\\user\\appdata\\local\\programs\\python\\python311\\lib\\site-packages (from pandas>=1.0.1->bert_score) (2023.3)\n",
      "Requirement already satisfied: tzdata>=2022.1 in c:\\users\\user\\appdata\\local\\programs\\python\\python311\\lib\\site-packages (from pandas>=1.0.1->bert_score) (2023.3)\n",
      "Requirement already satisfied: filelock in c:\\users\\user\\appdata\\local\\programs\\python\\python311\\lib\\site-packages (from torch>=1.0.0->bert_score) (3.12.0)\n",
      "Requirement already satisfied: typing-extensions in c:\\users\\user\\appdata\\local\\programs\\python\\python311\\lib\\site-packages (from torch>=1.0.0->bert_score) (4.5.0)\n",
      "Requirement already satisfied: sympy in c:\\users\\user\\appdata\\local\\programs\\python\\python311\\lib\\site-packages (from torch>=1.0.0->bert_score) (1.12)\n",
      "Requirement already satisfied: networkx in c:\\users\\user\\appdata\\local\\programs\\python\\python311\\lib\\site-packages (from torch>=1.0.0->bert_score) (3.1)\n",
      "Requirement already satisfied: jinja2 in c:\\users\\user\\appdata\\local\\programs\\python\\python311\\lib\\site-packages (from torch>=1.0.0->bert_score) (3.1.2)\n",
      "Requirement already satisfied: colorama in c:\\users\\user\\appdata\\local\\programs\\python\\python311\\lib\\site-packages (from tqdm>=4.31.1->bert_score) (0.4.6)\n",
      "Requirement already satisfied: huggingface-hub<1.0,>=0.11.0 in c:\\users\\user\\appdata\\local\\programs\\python\\python311\\lib\\site-packages (from transformers>=3.0.0->bert_score) (0.14.1)\n",
      "Requirement already satisfied: pyyaml>=5.1 in c:\\users\\user\\appdata\\local\\programs\\python\\python311\\lib\\site-packages (from transformers>=3.0.0->bert_score) (6.0)\n",
      "Requirement already satisfied: regex!=2019.12.17 in c:\\users\\user\\appdata\\local\\programs\\python\\python311\\lib\\site-packages (from transformers>=3.0.0->bert_score) (2023.5.5)\n",
      "Requirement already satisfied: tokenizers!=0.11.3,<0.14,>=0.11.1 in c:\\users\\user\\appdata\\local\\programs\\python\\python311\\lib\\site-packages (from transformers>=3.0.0->bert_score) (0.13.3)\n",
      "Requirement already satisfied: contourpy>=1.0.1 in c:\\users\\user\\appdata\\local\\programs\\python\\python311\\lib\\site-packages (from matplotlib->bert_score) (1.0.7)\n",
      "Requirement already satisfied: cycler>=0.10 in c:\\users\\user\\appdata\\local\\programs\\python\\python311\\lib\\site-packages (from matplotlib->bert_score) (0.11.0)\n",
      "Requirement already satisfied: fonttools>=4.22.0 in c:\\users\\user\\appdata\\local\\programs\\python\\python311\\lib\\site-packages (from matplotlib->bert_score) (4.39.4)\n",
      "Requirement already satisfied: kiwisolver>=1.0.1 in c:\\users\\user\\appdata\\local\\programs\\python\\python311\\lib\\site-packages (from matplotlib->bert_score) (1.4.4)\n",
      "Requirement already satisfied: pillow>=6.2.0 in c:\\users\\user\\appdata\\local\\programs\\python\\python311\\lib\\site-packages (from matplotlib->bert_score) (9.5.0)\n",
      "Requirement already satisfied: pyparsing>=2.3.1 in c:\\users\\user\\appdata\\local\\programs\\python\\python311\\lib\\site-packages (from matplotlib->bert_score) (3.0.9)\n",
      "Requirement already satisfied: charset-normalizer<4,>=2 in c:\\users\\user\\appdata\\local\\programs\\python\\python311\\lib\\site-packages (from requests->bert_score) (3.1.0)\n",
      "Requirement already satisfied: idna<4,>=2.5 in c:\\users\\user\\appdata\\local\\programs\\python\\python311\\lib\\site-packages (from requests->bert_score) (3.4)\n",
      "Requirement already satisfied: urllib3<1.27,>=1.21.1 in c:\\users\\user\\appdata\\local\\programs\\python\\python311\\lib\\site-packages (from requests->bert_score) (1.26.15)\n",
      "Requirement already satisfied: certifi>=2017.4.17 in c:\\users\\user\\appdata\\local\\programs\\python\\python311\\lib\\site-packages (from requests->bert_score) (2022.12.7)\n",
      "Requirement already satisfied: fsspec in c:\\users\\user\\appdata\\local\\programs\\python\\python311\\lib\\site-packages (from huggingface-hub<1.0,>=0.11.0->transformers>=3.0.0->bert_score) (2023.5.0)\n",
      "Requirement already satisfied: six>=1.5 in c:\\users\\user\\appdata\\local\\programs\\python\\python311\\lib\\site-packages (from python-dateutil>=2.8.2->pandas>=1.0.1->bert_score) (1.16.0)\n",
      "Requirement already satisfied: MarkupSafe>=2.0 in c:\\users\\user\\appdata\\local\\programs\\python\\python311\\lib\\site-packages (from jinja2->torch>=1.0.0->bert_score) (2.1.2)\n",
      "Requirement already satisfied: mpmath>=0.19 in c:\\users\\user\\appdata\\local\\programs\\python\\python311\\lib\\site-packages (from sympy->torch>=1.0.0->bert_score) (1.3.0)\n",
      "Installing collected packages: bert_score\n",
      "Successfully installed bert_score-0.3.13\n"
     ]
    },
    {
     "name": "stderr",
     "output_type": "stream",
     "text": [
      "\n",
      "[notice] A new release of pip is available: 23.1.2 -> 23.2.1\n",
      "[notice] To update, run: python.exe -m pip install --upgrade pip\n"
     ]
    },
    {
     "name": "stdout",
     "output_type": "stream",
     "text": [
      "Collecting pyarrow==11.0.0\n",
      "  Downloading pyarrow-11.0.0-cp311-cp311-win_amd64.whl (20.5 MB)\n",
      "                                              0.0/20.5 MB ? eta -:--:--\n",
      "                                              0.1/20.5 MB 1.9 MB/s eta 0:00:11\n",
      "                                              0.2/20.5 MB 2.9 MB/s eta 0:00:08\n",
      "                                              0.4/20.5 MB 3.4 MB/s eta 0:00:06\n",
      "     -                                        0.7/20.5 MB 3.9 MB/s eta 0:00:06\n",
      "     -                                        1.0/20.5 MB 4.5 MB/s eta 0:00:05\n",
      "     --                                       1.3/20.5 MB 4.9 MB/s eta 0:00:04\n",
      "     ---                                      1.6/20.5 MB 5.2 MB/s eta 0:00:04\n",
      "     ---                                      1.9/20.5 MB 5.3 MB/s eta 0:00:04\n",
      "     ----                                     2.2/20.5 MB 5.3 MB/s eta 0:00:04\n",
      "     ----                                     2.5/20.5 MB 5.5 MB/s eta 0:00:04\n",
      "     -----                                    2.7/20.5 MB 5.6 MB/s eta 0:00:04\n",
      "     ------                                   3.2/20.5 MB 5.7 MB/s eta 0:00:04\n",
      "     ------                                   3.5/20.5 MB 5.9 MB/s eta 0:00:03\n",
      "     -------                                  3.8/20.5 MB 6.1 MB/s eta 0:00:03\n",
      "     -------                                  4.1/20.5 MB 5.9 MB/s eta 0:00:03\n",
      "     --------                                 4.4/20.5 MB 6.1 MB/s eta 0:00:03\n",
      "     ---------                                4.7/20.5 MB 6.1 MB/s eta 0:00:03\n",
      "     ---------                                5.0/20.5 MB 6.1 MB/s eta 0:00:03\n",
      "     ----------                               5.3/20.5 MB 6.2 MB/s eta 0:00:03\n",
      "     ----------                               5.6/20.5 MB 6.2 MB/s eta 0:00:03\n",
      "     -----------                              5.9/20.5 MB 6.2 MB/s eta 0:00:03\n",
      "     ------------                             6.3/20.5 MB 6.3 MB/s eta 0:00:03\n",
      "     ------------                             6.6/20.5 MB 6.3 MB/s eta 0:00:03\n",
      "     -------------                            6.9/20.5 MB 6.3 MB/s eta 0:00:03\n",
      "     --------------                           7.2/20.5 MB 6.3 MB/s eta 0:00:03\n",
      "     --------------                           7.5/20.5 MB 6.3 MB/s eta 0:00:03\n",
      "     ---------------                          7.8/20.5 MB 6.3 MB/s eta 0:00:03\n",
      "     ---------------                          8.1/20.5 MB 6.3 MB/s eta 0:00:02\n",
      "     ----------------                         8.4/20.5 MB 6.3 MB/s eta 0:00:02\n",
      "     -----------------                        8.8/20.5 MB 6.3 MB/s eta 0:00:02\n",
      "     -----------------                        9.1/20.5 MB 6.3 MB/s eta 0:00:02\n",
      "     ------------------                       9.3/20.5 MB 6.3 MB/s eta 0:00:02\n",
      "     ------------------                       9.7/20.5 MB 6.3 MB/s eta 0:00:02\n",
      "     -------------------                      9.9/20.5 MB 6.3 MB/s eta 0:00:02\n",
      "     --------------------                     10.3/20.5 MB 6.4 MB/s eta 0:00:02\n",
      "     --------------------                     10.6/20.5 MB 6.5 MB/s eta 0:00:02\n",
      "     ---------------------                    10.9/20.5 MB 6.6 MB/s eta 0:00:02\n",
      "     ---------------------                    11.1/20.5 MB 6.5 MB/s eta 0:00:02\n",
      "     ----------------------                   11.5/20.5 MB 6.5 MB/s eta 0:00:02\n",
      "     ----------------------                   11.7/20.5 MB 6.6 MB/s eta 0:00:02\n",
      "     -----------------------                  12.1/20.5 MB 6.6 MB/s eta 0:00:02\n",
      "     ------------------------                 12.4/20.5 MB 6.6 MB/s eta 0:00:02\n",
      "     ------------------------                 12.7/20.5 MB 6.6 MB/s eta 0:00:02\n",
      "     -------------------------                12.9/20.5 MB 6.6 MB/s eta 0:00:02\n",
      "     -------------------------                13.3/20.5 MB 6.5 MB/s eta 0:00:02\n",
      "     --------------------------               13.5/20.5 MB 6.5 MB/s eta 0:00:02\n",
      "     --------------------------               13.7/20.5 MB 6.4 MB/s eta 0:00:02\n",
      "     ---------------------------              13.9/20.5 MB 6.4 MB/s eta 0:00:02\n",
      "     ---------------------------              14.2/20.5 MB 6.4 MB/s eta 0:00:02\n",
      "     ----------------------------             14.4/20.5 MB 6.3 MB/s eta 0:00:01\n",
      "     ----------------------------             14.6/20.5 MB 6.2 MB/s eta 0:00:01\n",
      "     ----------------------------             14.8/20.5 MB 6.2 MB/s eta 0:00:01\n",
      "     -----------------------------            15.0/20.5 MB 6.2 MB/s eta 0:00:01\n",
      "     -----------------------------            15.4/20.5 MB 6.2 MB/s eta 0:00:01\n",
      "     ------------------------------           15.6/20.5 MB 6.1 MB/s eta 0:00:01\n",
      "     ------------------------------           15.9/20.5 MB 6.1 MB/s eta 0:00:01\n",
      "     -------------------------------          16.2/20.5 MB 6.1 MB/s eta 0:00:01\n",
      "     --------------------------------         16.5/20.5 MB 6.1 MB/s eta 0:00:01\n",
      "     --------------------------------         16.8/20.5 MB 6.1 MB/s eta 0:00:01\n",
      "     ---------------------------------        17.1/20.5 MB 6.0 MB/s eta 0:00:01\n",
      "     ---------------------------------        17.3/20.5 MB 6.0 MB/s eta 0:00:01\n",
      "     ----------------------------------       17.6/20.5 MB 6.1 MB/s eta 0:00:01\n",
      "     ----------------------------------       18.0/20.5 MB 6.1 MB/s eta 0:00:01\n",
      "     -----------------------------------      18.2/20.5 MB 6.1 MB/s eta 0:00:01\n",
      "     ------------------------------------     18.6/20.5 MB 6.0 MB/s eta 0:00:01\n",
      "     ------------------------------------     18.9/20.5 MB 6.1 MB/s eta 0:00:01\n",
      "     -------------------------------------    19.2/20.5 MB 6.1 MB/s eta 0:00:01\n",
      "     -------------------------------------    19.5/20.5 MB 6.1 MB/s eta 0:00:01\n",
      "     --------------------------------------   19.8/20.5 MB 6.1 MB/s eta 0:00:01\n",
      "     ---------------------------------------  20.0/20.5 MB 6.1 MB/s eta 0:00:01\n",
      "     ---------------------------------------  20.3/20.5 MB 6.1 MB/s eta 0:00:01\n",
      "     ---------------------------------------  20.5/20.5 MB 6.1 MB/s eta 0:00:01\n",
      "     ---------------------------------------- 20.5/20.5 MB 5.9 MB/s eta 0:00:00\n",
      "Requirement already satisfied: numpy>=1.16.6 in c:\\users\\user\\appdata\\local\\programs\\python\\python311\\lib\\site-packages (from pyarrow==11.0.0) (1.25.0)\n",
      "Installing collected packages: pyarrow\n",
      "  Attempting uninstall: pyarrow\n",
      "    Found existing installation: pyarrow 12.0.1\n",
      "    Uninstalling pyarrow-12.0.1:\n",
      "      Successfully uninstalled pyarrow-12.0.1\n",
      "Successfully installed pyarrow-11.0.0\n"
     ]
    },
    {
     "name": "stderr",
     "output_type": "stream",
     "text": [
      "\n",
      "[notice] A new release of pip is available: 23.1.2 -> 23.2.1\n",
      "[notice] To update, run: python.exe -m pip install --upgrade pip\n"
     ]
    }
   ],
   "source": [
    "!pip install evaluate\n",
    "!pip install bert_score\n",
    "!pip install pyarrow==11.0.0"
   ]
  },
  {
   "cell_type": "code",
   "execution_count": 17,
   "id": "9da20328",
   "metadata": {},
   "outputs": [
    {
     "name": "stderr",
     "output_type": "stream",
     "text": [
      "c:\\Users\\User\\AppData\\Local\\Programs\\Python\\Python311\\Lib\\site-packages\\tqdm\\auto.py:21: TqdmWarning: IProgress not found. Please update jupyter and ipywidgets. See https://ipywidgets.readthedocs.io/en/stable/user_install.html\n",
      "  from .autonotebook import tqdm as notebook_tqdm\n",
      "Downloading builder script: 100%|██████████| 7.95k/7.95k [00:00<00:00, 7.98MB/s]\n"
     ]
    }
   ],
   "source": [
    " import evaluate\n",
    "\n",
    "bertscore = evaluate.load('bertscore')"
   ]
  },
  {
   "cell_type": "code",
   "execution_count": 18,
   "id": "ae052b41",
   "metadata": {},
   "outputs": [
    {
     "name": "stderr",
     "output_type": "stream",
     "text": [
      "Downloading (…)okenizer_config.json: 100%|██████████| 28.0/28.0 [00:00<?, ?B/s]\n",
      "c:\\Users\\User\\AppData\\Local\\Programs\\Python\\Python311\\Lib\\site-packages\\huggingface_hub\\file_download.py:133: UserWarning: `huggingface_hub` cache-system uses symlinks by default to efficiently store duplicated files but your machine does not support them in C:\\Users\\User\\.cache\\huggingface\\hub. Caching files will still work but in a degraded version that might require more space on your disk. This warning can be disabled by setting the `HF_HUB_DISABLE_SYMLINKS_WARNING` environment variable. For more details, see https://huggingface.co/docs/huggingface_hub/how-to-cache#limitations.\n",
      "To support symlinks on Windows, you either need to activate Developer Mode or to run Python as an administrator. In order to see activate developer mode, see this article: https://docs.microsoft.com/en-us/windows/apps/get-started/enable-your-device-for-development\n",
      "  warnings.warn(message)\n",
      "Downloading (…)lve/main/config.json: 100%|██████████| 483/483 [00:00<00:00, 453kB/s]\n",
      "Downloading (…)solve/main/vocab.txt: 100%|██████████| 232k/232k [00:00<00:00, 1.13MB/s]\n",
      "Downloading pytorch_model.bin: 100%|██████████| 268M/268M [01:18<00:00, 3.43MB/s] \n"
     ]
    },
    {
     "data": {
      "text/plain": [
       "{'precision': [0.906581461429596],\n",
       " 'recall': [0.7403594255447388],\n",
       " 'f1': [0.8150821924209595],\n",
       " 'hashcode': 'distilbert-base-uncased_L5_no-idf_version=0.3.12(hug_trans=4.29.0)'}"
      ]
     },
     "execution_count": 18,
     "metadata": {},
     "output_type": "execute_result"
    }
   ],
   "source": [
    "bertscore.compute(\n",
    "    predictions=['Ben Shneiderman is an active and longtime research contributor with more than 400 publications  since 1972. Shneidermans published work includes 208 journal articles  and 197 proceedings papers'],\n",
    "    references=['Ben Shneiderman is a highly productive scientist and computer scientist. He has published over 400 works since 1972, including 208 journal articles and 197 proceedings papers. He is well known for his pioneering work on human-computer interaction and information visualization. He is a Professor of Computer Science at the University of Maryland and founding Director of the Human-Computer Interaction Lab. He has won numerous awards and honors, including the Association for Computing Machinerys Software System Award and the ACM CHI Lifetime..'],\n",
    "    model_type=\"distilbert-base-uncased\"\n",
    ")"
   ]
  },
  {
   "cell_type": "code",
   "execution_count": 13,
   "id": "400c40ff",
   "metadata": {},
   "outputs": [
    {
     "data": {
      "text/plain": [
       "{'precision': [0.9863595962524414],\n",
       " 'recall': [0.9863595962524414],\n",
       " 'f1': [0.9863595962524414],\n",
       " 'hashcode': 'distilbert-base-uncased_L5_no-idf_version=0.3.12(hug_trans=4.29.2)'}"
      ]
     },
     "execution_count": 13,
     "metadata": {},
     "output_type": "execute_result"
    }
   ],
   "source": [
    "bertscore.compute(\n",
    "    predictions=['Vanilla is the best ice cream flavor in the world.'],\n",
    "    references=['Chocolate is the best ice cream flavor in the world.'],\n",
    "    model_type=\"distilbert-base-uncased\"\n",
    ")"
   ]
  },
  {
   "cell_type": "code",
   "execution_count": 14,
   "id": "fe4e3421",
   "metadata": {},
   "outputs": [
    {
     "data": {
      "text/plain": [
       "{'precision': [0.9881718158721924],\n",
       " 'recall': [0.9713627099990845],\n",
       " 'f1': [0.979695200920105],\n",
       " 'hashcode': 'distilbert-base-uncased_L5_no-idf_version=0.3.12(hug_trans=4.29.2)'}"
      ]
     },
     "execution_count": 14,
     "metadata": {},
     "output_type": "execute_result"
    }
   ],
   "source": [
    "bertscore.compute(\n",
    "    predictions=['Vanilla is the best ice cream flavor in the world.'],\n",
    "    references=['Vanilla is not the best ice cream flavor in the world.'],\n",
    "    model_type=\"distilbert-base-uncased\"\n",
    ")"
   ]
  },
  {
   "cell_type": "markdown",
   "id": "cd316b0c",
   "metadata": {},
   "source": [
    "## Perplexity"
   ]
  },
  {
   "cell_type": "code",
   "execution_count": 19,
   "id": "a56cd1cf",
   "metadata": {},
   "outputs": [],
   "source": [
    "from transformers import AutoTokenizer, AutoModelForCausalLM\n",
    "import transformers\n",
    "import torch\n",
    "from torch import nn\n",
    "import numpy as np\n",
    "\n",
    "# Code from a wonderful Kaggle Notebook by Pilipp Singer\n",
    "# https://www.kaggle.com/code/philippsinger/h2ogpt-perplexity-ranking\n",
    "\n",
    "class Perplexity(nn.Module):\n",
    "    def __init__(self, reduce: bool = True):\n",
    "        super().__init__()\n",
    "        self.loss_fn = nn.CrossEntropyLoss()\n",
    "        self.reduce = reduce\n",
    "\n",
    "    def forward(self, logits, labels):\n",
    "        shift_logits = logits[..., :-1, :].contiguous()\n",
    "        shift_labels = labels[..., 1:].contiguous()\n",
    "\n",
    "        perplexity = []\n",
    "        for i in range(labels.shape[0]):\n",
    "            perplexity.append(self.loss_fn(shift_logits[i], shift_labels[i]))\n",
    "        perplexity = torch.stack(perplexity, dim=0)\n",
    "        if self.reduce:\n",
    "            perplexity = torch.mean(perplexity)\n",
    "        return perplexity \n",
    "    \n",
    "perp = Perplexity()"
   ]
  },
  {
   "cell_type": "code",
   "execution_count": 20,
   "id": "1d7fa1e6",
   "metadata": {},
   "outputs": [],
   "source": [
    "def perplexity(model, prompt):\n",
    "    tokenizer = AutoTokenizer.from_pretrained(model)\n",
    "\n",
    "    model = AutoModelForCausalLM.from_pretrained(\n",
    "        model,\n",
    "        torch_dtype=torch.float16,\n",
    "        device_map=\"auto\",\n",
    "        trust_remote_code=True,\n",
    "    )\n",
    "    \n",
    "    with torch.no_grad():\n",
    "        inputs = tokenizer([prompt], return_tensors=\"pt\", add_special_tokens=False, truncation=True).to(\"cuda\")\n",
    "        logits = model(input_ids=inputs[\"input_ids\"], attention_mask=inputs[\"attention_mask\"]).logits\n",
    "        labels = inputs[\"input_ids\"]\n",
    "        return perp(logits[0].unsqueeze(0), labels[0].unsqueeze(0)).item()"
   ]
  },
  {
   "cell_type": "code",
   "execution_count": 21,
   "id": "af413bfa",
   "metadata": {},
   "outputs": [],
   "source": [
    "prompt = \"\"\"\n",
    "    Q: Please describe briefly the following scientific author and consider the following information:\\n\\nName: {name}\\nPublications: {publications}\\nJournal Articles: {journal_articles}\\nsince year:{since_year}\\nProceedings Papers: {proceedings_papers}\\n\\n\n",
    "    A: Ben Shneiderman is a highly productive scientist and computer scientist. He has published over 400 works since 1972, including 208 journal articles and 197 proceedings papers. He is well known for his pioneering work on human-computer interaction and information visualization. He is a Professor of Computer Science at the University of Maryland and founding Director of the Human-Computer Interaction Lab. He has won numerous awards and honors, including the Association for Computing Machinery's Software System Award and the ACM CHI Lifetime\"\n",
    "\"\"\""
   ]
  },
  {
   "cell_type": "code",
   "execution_count": 23,
   "id": "28d6c4a8",
   "metadata": {},
   "outputs": [
    {
     "ename": "ImportError",
     "evalue": "This modeling file requires the following packages that were not found in your environment: einops. Run `pip install einops`",
     "output_type": "error",
     "traceback": [
      "\u001b[1;31m---------------------------------------------------------------------------\u001b[0m",
      "\u001b[1;31mImportError\u001b[0m                               Traceback (most recent call last)",
      "Cell \u001b[1;32mIn[23], line 1\u001b[0m\n\u001b[1;32m----> 1\u001b[0m perplexity(\u001b[39m\"\u001b[39;49m\u001b[39mtiiuae/falcon-7b\u001b[39;49m\u001b[39m\"\u001b[39;49m, prompt)\n",
      "Cell \u001b[1;32mIn[20], line 4\u001b[0m, in \u001b[0;36mperplexity\u001b[1;34m(model, prompt)\u001b[0m\n\u001b[0;32m      1\u001b[0m \u001b[39mdef\u001b[39;00m \u001b[39mperplexity\u001b[39m(model, prompt):\n\u001b[0;32m      2\u001b[0m     tokenizer \u001b[39m=\u001b[39m AutoTokenizer\u001b[39m.\u001b[39mfrom_pretrained(model)\n\u001b[1;32m----> 4\u001b[0m     model \u001b[39m=\u001b[39m AutoModelForCausalLM\u001b[39m.\u001b[39;49mfrom_pretrained(\n\u001b[0;32m      5\u001b[0m         model,\n\u001b[0;32m      6\u001b[0m         torch_dtype\u001b[39m=\u001b[39;49mtorch\u001b[39m.\u001b[39;49mfloat16,\n\u001b[0;32m      7\u001b[0m         device_map\u001b[39m=\u001b[39;49m\u001b[39m\"\u001b[39;49m\u001b[39mauto\u001b[39;49m\u001b[39m\"\u001b[39;49m,\n\u001b[0;32m      8\u001b[0m         trust_remote_code\u001b[39m=\u001b[39;49m\u001b[39mTrue\u001b[39;49;00m,\n\u001b[0;32m      9\u001b[0m     )\n\u001b[0;32m     11\u001b[0m     \u001b[39mwith\u001b[39;00m torch\u001b[39m.\u001b[39mno_grad():\n\u001b[0;32m     12\u001b[0m         inputs \u001b[39m=\u001b[39m tokenizer([prompt], return_tensors\u001b[39m=\u001b[39m\u001b[39m\"\u001b[39m\u001b[39mpt\u001b[39m\u001b[39m\"\u001b[39m, add_special_tokens\u001b[39m=\u001b[39m\u001b[39mFalse\u001b[39;00m, truncation\u001b[39m=\u001b[39m\u001b[39mTrue\u001b[39;00m)\u001b[39m.\u001b[39mto(\u001b[39m\"\u001b[39m\u001b[39mcuda\u001b[39m\u001b[39m\"\u001b[39m)\n",
      "File \u001b[1;32mc:\\Users\\User\\AppData\\Local\\Programs\\Python\\Python311\\Lib\\site-packages\\transformers\\models\\auto\\auto_factory.py:459\u001b[0m, in \u001b[0;36m_BaseAutoModelClass.from_pretrained\u001b[1;34m(cls, pretrained_model_name_or_path, *model_args, **kwargs)\u001b[0m\n\u001b[0;32m    453\u001b[0m         \u001b[39mraise\u001b[39;00m \u001b[39mValueError\u001b[39;00m(\n\u001b[0;32m    454\u001b[0m             \u001b[39mf\u001b[39m\u001b[39m\"\u001b[39m\u001b[39mLoading \u001b[39m\u001b[39m{\u001b[39;00mpretrained_model_name_or_path\u001b[39m}\u001b[39;00m\u001b[39m requires you to execute the modeling file in that repo \u001b[39m\u001b[39m\"\u001b[39m\n\u001b[0;32m    455\u001b[0m             \u001b[39m\"\u001b[39m\u001b[39mon your local machine. Make sure you have read the code there to avoid malicious use, then set \u001b[39m\u001b[39m\"\u001b[39m\n\u001b[0;32m    456\u001b[0m             \u001b[39m\"\u001b[39m\u001b[39mthe option `trust_remote_code=True` to remove this error.\u001b[39m\u001b[39m\"\u001b[39m\n\u001b[0;32m    457\u001b[0m         )\n\u001b[0;32m    458\u001b[0m     class_ref \u001b[39m=\u001b[39m config\u001b[39m.\u001b[39mauto_map[\u001b[39mcls\u001b[39m\u001b[39m.\u001b[39m\u001b[39m__name__\u001b[39m]\n\u001b[1;32m--> 459\u001b[0m     model_class \u001b[39m=\u001b[39m get_class_from_dynamic_module(\n\u001b[0;32m    460\u001b[0m         class_ref, pretrained_model_name_or_path, \u001b[39m*\u001b[39;49m\u001b[39m*\u001b[39;49mhub_kwargs, \u001b[39m*\u001b[39;49m\u001b[39m*\u001b[39;49mkwargs\n\u001b[0;32m    461\u001b[0m     )\n\u001b[0;32m    462\u001b[0m     \u001b[39mreturn\u001b[39;00m model_class\u001b[39m.\u001b[39mfrom_pretrained(\n\u001b[0;32m    463\u001b[0m         pretrained_model_name_or_path, \u001b[39m*\u001b[39mmodel_args, config\u001b[39m=\u001b[39mconfig, \u001b[39m*\u001b[39m\u001b[39m*\u001b[39mhub_kwargs, \u001b[39m*\u001b[39m\u001b[39m*\u001b[39mkwargs\n\u001b[0;32m    464\u001b[0m     )\n\u001b[0;32m    465\u001b[0m \u001b[39melif\u001b[39;00m \u001b[39mtype\u001b[39m(config) \u001b[39min\u001b[39;00m \u001b[39mcls\u001b[39m\u001b[39m.\u001b[39m_model_mapping\u001b[39m.\u001b[39mkeys():\n",
      "File \u001b[1;32mc:\\Users\\User\\AppData\\Local\\Programs\\Python\\Python311\\Lib\\site-packages\\transformers\\dynamic_module_utils.py:425\u001b[0m, in \u001b[0;36mget_class_from_dynamic_module\u001b[1;34m(class_reference, pretrained_model_name_or_path, cache_dir, force_download, resume_download, proxies, use_auth_token, revision, local_files_only, repo_type, **kwargs)\u001b[0m\n\u001b[0;32m    422\u001b[0m module_file, class_name \u001b[39m=\u001b[39m class_reference\u001b[39m.\u001b[39msplit(\u001b[39m\"\u001b[39m\u001b[39m.\u001b[39m\u001b[39m\"\u001b[39m)\n\u001b[0;32m    424\u001b[0m \u001b[39m# And lastly we get the class inside our newly created module\u001b[39;00m\n\u001b[1;32m--> 425\u001b[0m final_module \u001b[39m=\u001b[39m get_cached_module_file(\n\u001b[0;32m    426\u001b[0m     repo_id,\n\u001b[0;32m    427\u001b[0m     module_file \u001b[39m+\u001b[39;49m \u001b[39m\"\u001b[39;49m\u001b[39m.py\u001b[39;49m\u001b[39m\"\u001b[39;49m,\n\u001b[0;32m    428\u001b[0m     cache_dir\u001b[39m=\u001b[39;49mcache_dir,\n\u001b[0;32m    429\u001b[0m     force_download\u001b[39m=\u001b[39;49mforce_download,\n\u001b[0;32m    430\u001b[0m     resume_download\u001b[39m=\u001b[39;49mresume_download,\n\u001b[0;32m    431\u001b[0m     proxies\u001b[39m=\u001b[39;49mproxies,\n\u001b[0;32m    432\u001b[0m     use_auth_token\u001b[39m=\u001b[39;49muse_auth_token,\n\u001b[0;32m    433\u001b[0m     revision\u001b[39m=\u001b[39;49mrevision,\n\u001b[0;32m    434\u001b[0m     local_files_only\u001b[39m=\u001b[39;49mlocal_files_only,\n\u001b[0;32m    435\u001b[0m     repo_type\u001b[39m=\u001b[39;49mrepo_type,\n\u001b[0;32m    436\u001b[0m )\n\u001b[0;32m    437\u001b[0m \u001b[39mreturn\u001b[39;00m get_class_in_module(class_name, final_module\u001b[39m.\u001b[39mreplace(\u001b[39m\"\u001b[39m\u001b[39m.py\u001b[39m\u001b[39m\"\u001b[39m, \u001b[39m\"\u001b[39m\u001b[39m\"\u001b[39m))\n",
      "File \u001b[1;32mc:\\Users\\User\\AppData\\Local\\Programs\\Python\\Python311\\Lib\\site-packages\\transformers\\dynamic_module_utils.py:267\u001b[0m, in \u001b[0;36mget_cached_module_file\u001b[1;34m(pretrained_model_name_or_path, module_file, cache_dir, force_download, resume_download, proxies, use_auth_token, revision, local_files_only, repo_type, _commit_hash)\u001b[0m\n\u001b[0;32m    264\u001b[0m     \u001b[39mraise\u001b[39;00m\n\u001b[0;32m    266\u001b[0m \u001b[39m# Check we have all the requirements in our environment\u001b[39;00m\n\u001b[1;32m--> 267\u001b[0m modules_needed \u001b[39m=\u001b[39m check_imports(resolved_module_file)\n\u001b[0;32m    269\u001b[0m \u001b[39m# Now we move the module inside our cached dynamic modules.\u001b[39;00m\n\u001b[0;32m    270\u001b[0m full_submodule \u001b[39m=\u001b[39m TRANSFORMERS_DYNAMIC_MODULE_NAME \u001b[39m+\u001b[39m os\u001b[39m.\u001b[39mpath\u001b[39m.\u001b[39msep \u001b[39m+\u001b[39m submodule\n",
      "File \u001b[1;32mc:\\Users\\User\\AppData\\Local\\Programs\\Python\\Python311\\Lib\\site-packages\\transformers\\dynamic_module_utils.py:150\u001b[0m, in \u001b[0;36mcheck_imports\u001b[1;34m(filename)\u001b[0m\n\u001b[0;32m    147\u001b[0m         missing_packages\u001b[39m.\u001b[39mappend(imp)\n\u001b[0;32m    149\u001b[0m \u001b[39mif\u001b[39;00m \u001b[39mlen\u001b[39m(missing_packages) \u001b[39m>\u001b[39m \u001b[39m0\u001b[39m:\n\u001b[1;32m--> 150\u001b[0m     \u001b[39mraise\u001b[39;00m \u001b[39mImportError\u001b[39;00m(\n\u001b[0;32m    151\u001b[0m         \u001b[39m\"\u001b[39m\u001b[39mThis modeling file requires the following packages that were not found in your environment: \u001b[39m\u001b[39m\"\u001b[39m\n\u001b[0;32m    152\u001b[0m         \u001b[39mf\u001b[39m\u001b[39m\"\u001b[39m\u001b[39m{\u001b[39;00m\u001b[39m'\u001b[39m\u001b[39m, \u001b[39m\u001b[39m'\u001b[39m\u001b[39m.\u001b[39mjoin(missing_packages)\u001b[39m}\u001b[39;00m\u001b[39m. Run `pip install \u001b[39m\u001b[39m{\u001b[39;00m\u001b[39m'\u001b[39m\u001b[39m \u001b[39m\u001b[39m'\u001b[39m\u001b[39m.\u001b[39mjoin(missing_packages)\u001b[39m}\u001b[39;00m\u001b[39m`\u001b[39m\u001b[39m\"\u001b[39m\n\u001b[0;32m    153\u001b[0m     )\n\u001b[0;32m    155\u001b[0m \u001b[39mreturn\u001b[39;00m get_relative_imports(filename)\n",
      "\u001b[1;31mImportError\u001b[0m: This modeling file requires the following packages that were not found in your environment: einops. Run `pip install einops`"
     ]
    }
   ],
   "source": [
    "perplexity(\"tiiuae/falcon-7b\", prompt)"
   ]
  },
  {
   "cell_type": "code",
   "execution_count": 19,
   "id": "da110e26",
   "metadata": {},
   "outputs": [
    {
     "name": "stderr",
     "output_type": "stream",
     "text": [
      "The model weights are not tied. Please use the `tie_weights` method before using the `infer_auto_device` function.\n"
     ]
    },
    {
     "name": "stdout",
     "output_type": "stream",
     "text": [
      "Instantiating an MPTForCausalLM model from /home/radek/.cache/huggingface/modules/transformers_modules/mosaicml/mpt-7b/72e5f594ce36f9cabfa2a9fd8f58b491eb467ee7/modeling_mpt.py\n",
      "You are using config.init_device='cpu', but you can also use config.init_device=\"meta\" with Composer + FSDP for fast initialization.\n"
     ]
    },
    {
     "name": "stderr",
     "output_type": "stream",
     "text": [
      "Loading checkpoint shards: 100%|█████████████████████████████████████████████████████████████████████████████████████████████████████████| 2/2 [00:06<00:00,  3.07s/it]\n"
     ]
    },
    {
     "data": {
      "text/plain": [
       "1.77734375"
      ]
     },
     "execution_count": 19,
     "metadata": {},
     "output_type": "execute_result"
    }
   ],
   "source": [
    "perplexity(\"mosaicml/mpt-7b\", prompt)"
   ]
  }
 ],
 "metadata": {
  "kernelspec": {
   "display_name": "Python 3 (ipykernel)",
   "language": "python",
   "name": "python3"
  },
  "language_info": {
   "codemirror_mode": {
    "name": "ipython",
    "version": 3
   },
   "file_extension": ".py",
   "mimetype": "text/x-python",
   "name": "python",
   "nbconvert_exporter": "python",
   "pygments_lexer": "ipython3",
   "version": "3.11.3"
  }
 },
 "nbformat": 4,
 "nbformat_minor": 5
}
