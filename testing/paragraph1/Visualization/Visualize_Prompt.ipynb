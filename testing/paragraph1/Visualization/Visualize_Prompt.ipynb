{
 "cells": [
  {
   "cell_type": "code",
   "execution_count": 1,
   "metadata": {},
   "outputs": [
    {
     "name": "stdout",
     "output_type": "stream",
     "text": [
      "Requirement already satisfied: pandas in c:\\users\\user\\appdata\\local\\programs\\python\\python311\\lib\\site-packages (2.0.2)\n",
      "Requirement already satisfied: python-dateutil>=2.8.2 in c:\\users\\user\\appdata\\roaming\\python\\python311\\site-packages (from pandas) (2.8.2)\n",
      "Requirement already satisfied: pytz>=2020.1 in c:\\users\\user\\appdata\\local\\programs\\python\\python311\\lib\\site-packages (from pandas) (2023.3)\n",
      "Requirement already satisfied: tzdata>=2022.1 in c:\\users\\user\\appdata\\local\\programs\\python\\python311\\lib\\site-packages (from pandas) (2023.3)\n",
      "Requirement already satisfied: numpy>=1.21.0 in c:\\users\\user\\appdata\\local\\programs\\python\\python311\\lib\\site-packages (from pandas) (1.25.0)\n",
      "Requirement already satisfied: six>=1.5 in c:\\users\\user\\appdata\\local\\programs\\python\\python311\\lib\\site-packages (from python-dateutil>=2.8.2->pandas) (1.16.0)\n",
      "Note: you may need to restart the kernel to use updated packages.\n"
     ]
    },
    {
     "name": "stderr",
     "output_type": "stream",
     "text": [
      "\n",
      "[notice] A new release of pip is available: 23.1.2 -> 23.2.1\n",
      "[notice] To update, run: python.exe -m pip install --upgrade pip\n"
     ]
    }
   ],
   "source": [
    "pip install pandas\n"
   ]
  },
  {
   "cell_type": "code",
   "execution_count": 1,
   "metadata": {},
   "outputs": [],
   "source": [
    "import pandas as pd\n",
    "\n",
    "# Load the CSV files into pandas DataFrames\n",
    "ada_df = pd.read_csv(\"ada_Prompt.csv\")\n",
    "curie_df = pd.read_csv(\"curie_Prompt.csv\")\n",
    "davinci_df = pd.read_csv(\"davinci_Prompt.csv\")\n",
    "turbo_df = pd.read_csv(\"turbo_Prompt.csv\")\n",
    "\n",
    "# Add a 'Model' column to identify the source of the data\n",
    "ada_df['Model'] = 'ada'\n",
    "curie_df['Model'] = 'curie'\n",
    "davinci_df['Model'] = 'davinci'\n",
    "turbo_df['Model'] = 'turbo'\n",
    "\n",
    "\n",
    "# Combine the DataFrames\n",
    "combined_df = pd.concat([ada_df, curie_df, davinci_df, turbo_df], ignore_index=True)\n",
    "\n",
    "# Reorder columns for the desired format\n",
    "column_order = ['Name', 'Model','Generated_Texts', 'F1_Score', 'Rouge1', 'Rouge2', 'RougeL', 'Length', 'Vec2', 'Bleu']\n",
    "combined_df = combined_df[column_order]\n",
    "\n",
    "# Create a new DataFrame with alternating rows of models for each author\n",
    "alternating_rows = pd.DataFrame()\n",
    "for name in combined_df['Name'].unique():\n",
    "    author_data = combined_df[combined_df['Name'] == name]\n",
    "    for model in author_data['Model'].unique():\n",
    "        model_data = author_data[author_data['Model'] == model]\n",
    "        alternating_rows = pd.concat([alternating_rows, model_data], ignore_index=True)\n",
    "\n",
    "# Save the combined DataFrame to a new CSV file\n",
    "alternating_rows.to_csv(\"combined_Prompt.csv\", index=False)\n"
   ]
  },
  {
   "cell_type": "code",
   "execution_count": 12,
   "metadata": {},
   "outputs": [
    {
     "name": "stdout",
     "output_type": "stream",
     "text": [
      "Model    Generated_Texts\n",
      "ada      Text1              276.65\n",
      "         Text2              300.40\n",
      "         Text3              279.20\n",
      "curie    Text1              276.65\n",
      "         Text2              272.90\n",
      "         Text3              224.25\n",
      "davinci  Text1              262.95\n",
      "         Text2              116.50\n",
      "         Text3              133.50\n",
      "turbo    Text1              340.80\n",
      "         Text2              181.45\n",
      "         Text3              151.55\n",
      "Name: Length, dtype: float64\n",
      "Generated_Texts  Model  \n",
      "Text1            ada        276.65\n",
      "                 curie      276.65\n",
      "                 davinci    262.95\n",
      "                 turbo      340.80\n",
      "Text2            ada        300.40\n",
      "                 curie      272.90\n",
      "                 davinci    116.50\n",
      "                 turbo      181.45\n",
      "Text3            ada        279.20\n",
      "                 curie      224.25\n",
      "                 davinci    133.50\n",
      "                 turbo      151.55\n",
      "Name: Length, dtype: float64\n"
     ]
    }
   ],
   "source": [
    "import pandas as pd\n",
    "\n",
    "data = pd.read_csv('combined_Prompt.csv')\n",
    "\n",
    "df = pd.DataFrame(data)\n",
    "\n",
    "# Group the DataFrame by 'Model' and each text column, and calculate the mean length for each group\n",
    "mean_length1 = df.groupby(['Model', 'Generated_Texts'])['Length'].mean()\n",
    "mean_length2 = df.groupby(['Generated_Texts', 'Model'])['Length'].mean()\n",
    "\n",
    "mean_length1.to_csv('mean_length1_results.csv', index=False)\n",
    "mean_length2.to_csv('mean_length2_results.csv', index=False)\n",
    "\n",
    "\n",
    "# Print the result\n",
    "print(mean_length1)\n",
    "print(mean_length2)\n",
    "\n"
   ]
  },
  {
   "cell_type": "code",
   "execution_count": 17,
   "metadata": {},
   "outputs": [
    {
     "data": {
      "image/png": "[encoded data removed]",
      "text/plain": [
       "<Figure size 1000x600 with 1 Axes>"
      ]
     },
     "metadata": {},
     "output_type": "display_data"
    }
   ],
   "source": [
    "import matplotlib.pyplot as plt\n",
    "import pandas as pd\n",
    "\n",
    "# Data\n",
    "data = {\n",
    "    'Model': ['ada', 'curie', 'davinci', 'turbo'],\n",
    "    'Text1': [276.65, 276.65, 262.95, 340.80],\n",
    "    'Text2': [300.40, 272.90, 116.50, 181.45],\n",
    "    'Text3': [279.20, 224.25, 133.50, 151.55]\n",
    "}\n",
    "\n",
    "df = pd.DataFrame(data)\n",
    "\n",
    "# Set figure size\n",
    "plt.figure(figsize=(10, 6))\n",
    "\n",
    "# Bar width\n",
    "bar_width = 0.2\n",
    "\n",
    "# Position of bars on x-axis\n",
    "index = range(len(df['Model']))\n",
    "\n",
    "# Create bars\n",
    "plt.bar(index, df['Text1'], bar_width, label='Text1')\n",
    "plt.bar([i + bar_width for i in index], df['Text2'], bar_width, label='Text2')\n",
    "plt.bar([i + 2 * bar_width for i in index], df['Text3'], bar_width, label='Text3')\n",
    "\n",
    "# X-axis labels\n",
    "plt.xlabel('Model')\n",
    "plt.ylabel('Text Length')\n",
    "\n",
    "# Title and legend\n",
    "plt.title('Generated Text Length Comparison by Model')\n",
    "plt.xticks([i + bar_width for i in index], df['Model'])\n",
    "plt.legend()\n",
    "\n",
    "# Show the plot\n",
    "plt.tight_layout()\n",
    "plt.show()\n"
   ]
  }
 ],
 "metadata": {
  "kernelspec": {
   "display_name": "Python 3",
   "language": "python",
   "name": "python3"
  },
  "language_info": {
   "codemirror_mode": {
    "name": "ipython",
    "version": 3
   },
   "file_extension": ".py",
   "mimetype": "text/x-python",
   "name": "python",
   "nbconvert_exporter": "python",
   "pygments_lexer": "ipython3",
   "version": "3.11.3"
  },
  "orig_nbformat": 4
 },
 "nbformat": 4,
 "nbformat_minor": 2
}
