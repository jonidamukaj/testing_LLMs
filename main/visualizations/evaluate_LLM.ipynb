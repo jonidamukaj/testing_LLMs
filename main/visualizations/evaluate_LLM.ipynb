{
 "cells": [
  {
   "cell_type": "code",
   "execution_count": 1,
   "id": "a1aa561a",
   "metadata": {},
   "outputs": [],
   "source": [
    "import pandas as pd\n",
    "\n",
    "# Read the CSV files into pandas DataFrames\n",
    "file1 = pd.read_csv(\"p1.csv\")\n",
    "file2 = pd.read_csv(\"p2.csv\")\n",
    "file3 = pd.read_csv(\"p3.csv\")\n",
    "\n",
    "# Concatenate the DataFrames vertically to combine them\n",
    "combined_df = pd.concat([file1, file2, file3], ignore_index=True)\n",
    "\n",
    "# Create a new column called \"paragraph\" and assign the paragraph information to it\n",
    "combined_df['paragraph'] = [\"Paragraph 1\"] * len(file1) + [\"Paragraph 2\"] * len(file2) + [\"Paragraph 3\"] * len(file3)\n",
    "\n",
    "# Save the combined DataFrame to a new CSV file\n",
    "combined_df.to_csv(\"combined_data.csv\", index=False)"
   ]
  },
  {
   "cell_type": "code",
   "execution_count": 6,
   "id": "39c72bd1",
   "metadata": {},
   "outputs": [],
   "source": [
    "import pandas as pd\n",
    "import json\n",
    "\n",
    "# Load the CSV files into pandas DataFrames\n",
    "ada_df = pd.read_csv(\"combined_data.csv\")\n",
    "\n",
    "# Load the JSON data containing publications with the appropriate encoding (e.g., utf-8)\n",
    "with open(\"data_authors.json\", \"r\", encoding=\"utf-8\") as json_file:\n",
    "    publications_data = json.load(json_file)\n",
    "\n",
    "# Create a DataFrame from the JSON data\n",
    "publications_df = pd.DataFrame(publications_data)\n",
    "\n",
    "# Merge the publications DataFrame with the combined DataFrame based on the 'name' column\n",
    "ada_df = pd.merge(ada_df, publications_df[['name', 'publications']], left_on='Name', right_on='name', how='left')\n",
    "\n",
    "# Drop the redundant 'name' column from the merged DataFrame\n",
    "ada_df.drop(columns=['name'], inplace=True)\n",
    "\n",
    "# Save the combined DataFrame to a new CSV file\n",
    "ada_df.to_csv(\"combined_authors_with_publications.csv\", index=False)\n"
   ]
  }
 ],
 "metadata": {
  "kernelspec": {
   "display_name": "Python 3 (ipykernel)",
   "language": "python",
   "name": "python3"
  },
  "language_info": {
   "codemirror_mode": {
    "name": "ipython",
    "version": 3
   },
   "file_extension": ".py",
   "mimetype": "text/x-python",
   "name": "python",
   "nbconvert_exporter": "python",
   "pygments_lexer": "ipython3",
   "version": "3.11.3"
  }
 },
 "nbformat": 4,
 "nbformat_minor": 5
}
